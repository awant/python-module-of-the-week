{
 "cells": [
  {
   "cell_type": "markdown",
   "metadata": {},
   "source": [
    "Модуль **functools** используется для высокоуровневых функций, функций, которые ведут себя как функции или возвращают другие функции"
   ]
  },
  {
   "cell_type": "code",
   "execution_count": null,
   "metadata": {
    "collapsed": true
   },
   "outputs": [],
   "source": [
    "import functools"
   ]
  },
  {
   "cell_type": "markdown",
   "metadata": {},
   "source": [
    "**@functools.lru_cache(maxsize=128, typed=False)** - позволяет сохранять результаты maxsize последних вызовов. Очень полезно для сохранения результатов долгих вычислений.\n",
    "\n",
    "Поскольку в качестве кэша используется словарь, все аргументы должны быть хешируемыми"
   ]
  },
  {
   "cell_type": "markdown",
   "metadata": {},
   "source": [
    "### Упражнение 1\n",
    "\n",
    "Напишите не самую лучшую версию вычисления чисел Фибоначчи (через рекурсию), только для демонстрации силы lru_cache.\n",
    "\n",
    "А теперь запустите ее с достаточно большим n с декоратором и без"
   ]
  },
  {
   "cell_type": "code",
   "execution_count": null,
   "metadata": {
    "collapsed": true
   },
   "outputs": [],
   "source": []
  },
  {
   "cell_type": "markdown",
   "metadata": {},
   "source": [
    "**@functools.total_ordering** - декоратор класса, в котором задан один или более методов сравнения. Этот декоратор автоматически добавляет все остальные методы. Класс должен определять один из методов \\__lt\\__(), \\__le\\__(), \\__gt\\__(), или \\__ge\\__(). Кроме того, он должен определять метод \\__eq\\__().\n",
    "\n",
    "Применение:\n",
    "```\n",
    "@total_ordering\n",
    "class Student:\n",
    "    pass\n",
    "```"
   ]
  },
  {
   "cell_type": "markdown",
   "metadata": {},
   "source": [
    "### Упражнение 2\n",
    "\n",
    "Напишите класс **Student**, в котором будут атрибуты firstname, lastname и методы \\__lt\\__(), \\__eq\\__(). Добавьте декоратор, запустите код и убедитесь в том, что декоратор работает так, как надо (добавляет остальные функции сравнения)"
   ]
  },
  {
   "cell_type": "code",
   "execution_count": null,
   "metadata": {
    "collapsed": true
   },
   "outputs": [],
   "source": []
  },
  {
   "cell_type": "markdown",
   "metadata": {},
   "source": [
    "С функцией reduce вы уже знакомы (эта built-in функция с 3 питона доступна во 2 через functools модуль). Поведение аналогично:\n",
    "\n",
    "**functools.reduce(function, iterable[, initializer])** - берёт два первых элемента, применяет к ним функцию, берёт значение и третий элемент, и таким образом сворачивает iterable в одно значение. Если задан initializer, он помещается в начале последовательности.\n",
    "\n"
   ]
  },
  {
   "cell_type": "markdown",
   "metadata": {},
   "source": [
    "### Упражнение 3\n",
    "\n",
    "Напишите функцию, использующую reduce, которая суммирует все числа в списке"
   ]
  },
  {
   "cell_type": "code",
   "execution_count": null,
   "metadata": {
    "collapsed": true
   },
   "outputs": [],
   "source": []
  },
  {
   "cell_type": "markdown",
   "metadata": {},
   "source": [
    "functools.partial(func, \\*args, \\**keywords) - возвращает partial-объект (по сути, функцию), который при вызове вызывается как функция func, но дополнительно передают туда позиционные аргументы args, и именованные аргументы kwargs. Если другие аргументы передаются при вызове функции, то позиционные добавляются в конец, а именованные расширяют и перезаписывают.\n",
    "\n",
    "Пример:\n",
    "```\n",
    "from functools import partial\n",
    "basetwo = partial(int, base=2)\n",
    "basetwo.__doc__ = 'Convert base 2 string to an int.'\n",
    "print(basetwo('10010'))\n",
    "```"
   ]
  },
  {
   "cell_type": "markdown",
   "metadata": {},
   "source": [
    "### Упражнение 4\n",
    "\n",
    "С помощью partial и уже готовой функции add создайте функцию add2, которая принимает один аргумент x и возвращает результат: x+2\n"
   ]
  },
  {
   "cell_type": "code",
   "execution_count": null,
   "metadata": {},
   "outputs": [],
   "source": [
    "def add(a, b):\n",
    "    return a + b"
   ]
  },
  {
   "cell_type": "markdown",
   "metadata": {},
   "source": [
    "functools.update_wrapper(wrapper, wrapped, assigned=WRAPPER_ASSIGNMENTS, updated=WRAPPER_UPDATES) - обновляет функцию-оболочку, чтобы она стала похожей на обёрнутую функцию. assigned - кортеж, указывающий, какие атрибуты исходной функции копируются в функцию-оболочку (по умолчанию это WRAPPER_ASSIGNMENTS (\\__name\\__, \\__module\\__, \\__annotations\\__ и \\__doc\\__)). updated - кортеж, указывающий, какие атрибуты обновляются (по умолчанию это WRAPPER_UPDATES (обновляется \\__dict\\__ функции-оболочки)).\n",
    "\n",
    "@functools.wraps(wrapped, assigned=WRAPPER_ASSIGNMENTS, updated=WRAPPER_UPDATES) - удобная функция для вызова partial(update_wrapper, wrapped=wrapped, assigned=assigned, updated=updated) как декоратора при определении функции-оболочки. Например:"
   ]
  },
  {
   "cell_type": "markdown",
   "metadata": {},
   "source": [
    "Все понятнее с примером (мы пытаемся решить проблему с тем, что при доступе к атрибуту, скажем \\__name\\__, мы увидели декоратор, а не вызываемую функцию):"
   ]
  },
  {
   "cell_type": "code",
   "execution_count": null,
   "metadata": {},
   "outputs": [],
   "source": [
    "def foo(f):\n",
    "    def wrapper(*args, **kwargs):\n",
    "        return f(*args, **kwargs)\n",
    "    return wrapper\n",
    "\n",
    "@foo\n",
    "def bar(x, y):\n",
    "    return x + y\n",
    "\n",
    "print(bar(1, 2))\n",
    "(bar.__name__)"
   ]
  },
  {
   "cell_type": "code",
   "execution_count": null,
   "metadata": {},
   "outputs": [],
   "source": [
    "@wraps\n",
    "def foo(f):\n",
    "    def wrapper(*args, **kwargs):\n",
    "        return f(*args, **kwargs)\n",
    "    return wrapper\n",
    "\n",
    "@foo\n",
    "def bar(x, y):\n",
    "    return x + y\n",
    "\n",
    "print(bar(1, 2))\n",
    "(bar.__name__)"
   ]
  },
  {
   "cell_type": "code",
   "execution_count": null,
   "metadata": {
    "collapsed": true
   },
   "outputs": [],
   "source": []
  }
 ],
 "metadata": {
  "kernelspec": {
   "display_name": "Python 3",
   "language": "python",
   "name": "python3"
  },
  "language_info": {
   "codemirror_mode": {
    "name": "ipython",
    "version": 3
   },
   "file_extension": ".py",
   "mimetype": "text/x-python",
   "name": "python",
   "nbconvert_exporter": "python",
   "pygments_lexer": "ipython3",
   "version": "3.6.3"
  }
 },
 "nbformat": 4,
 "nbformat_minor": 2
}
