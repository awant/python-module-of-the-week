{
 "cells": [
  {
   "cell_type": "markdown",
   "metadata": {},
   "source": [
    "## pytest"
   ]
  },
  {
   "cell_type": "markdown",
   "metadata": {},
   "source": [
    "PyTest - модуль для тестирования кода"
   ]
  },
  {
   "cell_type": "markdown",
   "metadata": {},
   "source": [
    "#### Немного о тестировании в целом:"
   ]
  },
  {
   "cell_type": "markdown",
   "metadata": {},
   "source": [
    "**Интеграционное тестирование** - тестирование взаимодействия компонентов. Проверка на работоспособность всего проекта со всеми зависимостями.\n",
    "\n",
    "-) Сложно, трудно автоматизировать, требует сторонние зависимости, долго\n",
    "\n",
    "**Юнит-тестирование (модульное тестирование)** - проверка на корректность отдельных модулей. Тестирование конкретных функций и методов.\n",
    "\n",
    "Иерархия тестирования:\n",
    "\n",
    "**Manual tests** (высокий уровень)\n",
    "\n",
    "**Acceptance tests**\n",
    "\n",
    "**Integration tests**\n",
    "\n",
    "**Unit tests** (низкий уровень)"
   ]
  },
  {
   "cell_type": "markdown",
   "metadata": {},
   "source": [
    "Тесты представляют **контракт**, **спецификацией**. Какие входные параметры, какие выходные, что ожидается в процессе работы"
   ]
  },
  {
   "cell_type": "markdown",
   "metadata": {},
   "source": [
    "**Разделяй и властвуй**. Тесты должны проверять одну вещь в один момент времени. Это упрощает как поддержку тестов, так и возможность отловить баги на самой ранней стадии"
   ]
  },
  {
   "cell_type": "markdown",
   "metadata": {},
   "source": [
    "**TDD** (Test-driven development). Техника разработки ПО, которая основывается на повторении коротких циклов разработки: test -> code. Сначала пишутся тесты для желаемого поведения, затем - код, который должен проходить эти тесты.\n",
    "\n",
    "При решении добавить новую функциональность для приложения, сначала пишутся тесты для того, что эта функциональность должна делать, а только затем код"
   ]
  },
  {
   "cell_type": "markdown",
   "metadata": {},
   "source": [
    "Написание 'Hello world' для тестирования с **pytest**"
   ]
  },
  {
   "cell_type": "markdown",
   "metadata": {},
   "source": [
    "### Упражнение 1:\n",
    "\n",
    "Создайте файл *test_simple.py* и вставьте в него код, представленный ниже"
   ]
  },
  {
   "cell_type": "code",
   "execution_count": 2,
   "metadata": {
    "collapsed": true
   },
   "outputs": [],
   "source": [
    "import pytest\n",
    "\n",
    "def setup_module(module):\n",
    "    #init_something()\n",
    "    pass\n",
    "\n",
    "def teardown_module(module):\n",
    "    #teardown_something()\n",
    "    pass\n",
    "\n",
    "def test_upper():\n",
    "    assert 'foo'.upper() == 'FOO'\n",
    "    \n",
    "def test_isupper():\n",
    "    assert 'FOO'.isupper()\n",
    "    \n",
    "def test_failed_upper():\n",
    "    assert 'foo'.upper() == 'FOo'"
   ]
  },
  {
   "cell_type": "code",
   "execution_count": 4,
   "metadata": {},
   "outputs": [
    {
     "name": "stdout",
     "output_type": "stream",
     "text": [
      "============================= test session starts =============================\n",
      "platform win32 -- Python 3.6.5, pytest-3.5.1, py-1.5.3, pluggy-0.6.0 -- c:\\programdata\\anaconda3\\python.exe\n",
      "cachedir: .pytest_cache\n",
      "rootdir: D:\\mofw, inifile:\n",
      "plugins: remotedata-0.2.1, openfiles-0.3.0, doctestplus-0.1.3, arraydiff-0.2\n",
      "collecting ... collected 3 items\n",
      "\n",
      "test_simple.py::test_upper PASSED                                        [ 33%]\n",
      "test_simple.py::test_isupper PASSED                                      [ 66%]\n",
      "test_simple.py::test_failed_upper FAILED                                 [100%]\n",
      "\n",
      "================================== FAILURES ===================================\n",
      "______________________________ test_failed_upper ______________________________\n",
      "\n",
      "    def test_failed_upper():\n",
      ">       assert 'foo'.upper() == 'FOo'\n",
      "E       AssertionError: assert 'FOO' == 'FOo'\n",
      "E         - FOO\n",
      "E         + FOo\n",
      "\n",
      "test_simple.py:18: AssertionError\n",
      "===================== 1 failed, 2 passed in 0.06 seconds ======================\n"
     ]
    }
   ],
   "source": [
    "# Запустите тесты командой:\n",
    "!pytest -v test_simple.py\n",
    "# pytest рекурсивно обходит все файлы в директории (+ вложенные) и запускает тесты в файлах test_*"
   ]
  },
  {
   "cell_type": "markdown",
   "metadata": {},
   "source": [
    "Видим подробный отчет о тестировании со всей информацией по тестам (В командной строке будет подсветка синтаксиса)"
   ]
  },
  {
   "cell_type": "markdown",
   "metadata": {},
   "source": [
    "pytest позволяет задать функции инициализации и деструкторы перед и после тестов\n",
    "\n",
    "Запустите код, представленный ниже"
   ]
  },
  {
   "cell_type": "code",
   "execution_count": null,
   "metadata": {
    "collapsed": true
   },
   "outputs": [],
   "source": [
    "import pytest\n",
    " \n",
    "@pytest.fixture(scope=\"module\")\n",
    "def resource_setup(request):\n",
    "    print(\"\\nconnect to db\")\n",
    "    db = {\"Red\":1,\"Blue\":2,\"Green\":3}\n",
    "    def resource_teardown():\n",
    "        print(\"\\ndisconnect\")\n",
    "    request.addfinalizer(resource_teardown)\n",
    "    return db\n",
    "\n",
    "def test_db(resource_setup):\n",
    "    for k in resource_setup.keys():\n",
    "        print \"color {0} has id {1}\".format(k, resource_setup[k])\n",
    "\n",
    "def test_red(resource_setup):\n",
    "    assert resource_setup[\"Red\"] == 1\n",
    "\n",
    "def test_blue(resource_setup):\n",
    "    assert resource_setup[\"Blue\"] != 1"
   ]
  },
  {
   "cell_type": "markdown",
   "metadata": {},
   "source": [
    "Предоставление возможности для нескольких тестов вынести открытие, закрытие базы данных в отдельную функцию"
   ]
  },
  {
   "cell_type": "markdown",
   "metadata": {},
   "source": [
    "Пример проверки чисел Фибоначчи (более структурированно):"
   ]
  },
  {
   "cell_type": "code",
   "execution_count": null,
   "metadata": {
    "collapsed": true
   },
   "outputs": [],
   "source": [
    "def get_fibonacci_value(n, first_val, second_val):\n",
    "    raise RuntimeError(\"Not implemented\")"
   ]
  },
  {
   "cell_type": "code",
   "execution_count": null,
   "metadata": {
    "collapsed": true
   },
   "outputs": [],
   "source": [
    "import pytest    \n",
    "\n",
    "class Case(object):\n",
    "    def __init__(self, position: int, first_value: int,\n",
    "                 second_value: int, expected: int):\n",
    "        self.position = position\n",
    "        self.expected = expected\n",
    "        self.first_value = first_value\n",
    "        self.second_value = second_value\n",
    "\n",
    "    def __str__(self):\n",
    "        return \"test_{}\".format(self.position)\n",
    "\n",
    "\n",
    "TEST_CASES = [\n",
    "    Case(position=1, first_value=0, second_value=1, expected=1)\n",
    "    # Можно добавить дополнительные тесты\n",
    "]\n",
    "\n",
    "\n",
    "@pytest.mark.parametrize(\"test_case\", TEST_CASES, ids=[str(t) for t in TEST_CASES])\n",
    "def test_fibonacci(test_case: Case):\n",
    "    combinations = get_fibonacci_value(\n",
    "        test_case.position, test_case.first_value, test_case.second_value\n",
    "    )\n",
    "    assert combinations == test_case.expected\n"
   ]
  },
  {
   "cell_type": "markdown",
   "metadata": {},
   "source": [
    "Тестирование методов класса:"
   ]
  },
  {
   "cell_type": "code",
   "execution_count": null,
   "metadata": {
    "collapsed": true
   },
   "outputs": [],
   "source": [
    "# cool.py\n",
    "class SuperCool(object):\n",
    "    def action(self, x):\n",
    "        return x * x"
   ]
  },
  {
   "cell_type": "code",
   "execution_count": null,
   "metadata": {
    "collapsed": true
   },
   "outputs": [],
   "source": [
    "# test_cool.py\n",
    "from cool import SuperCool\n",
    "\n",
    "class TestSuperCool(object):\n",
    "    def test_action(self):\n",
    "        sc = SuperCool()\n",
    "        assert sc.action(1) == 1"
   ]
  },
  {
   "cell_type": "markdown",
   "metadata": {},
   "source": [
    "Создание объекта класса единожды для всех тестов:"
   ]
  },
  {
   "cell_type": "code",
   "execution_count": null,
   "metadata": {
    "collapsed": true
   },
   "outputs": [],
   "source": [
    "# test_cool.py\n",
    "import pytest\n",
    "from cool import SuperCool\n",
    "\n",
    "class TestSuperCool(object):\n",
    "    def setup(self):\n",
    "        self.sc = SuperCool()\n",
    "\n",
    "    def test_action(self):\n",
    "        assert self.sc.action(1) == 1\n",
    "    \n",
    "    # parametrize разворачивает несколько тестов\n",
    "    @pytest.mark.parametrize(\"element, expected\", [(1, 1), (2, 4)])\n",
    "    def test_action_with_parametrization(self, element, expected):\n",
    "        assert self.sc.action(element) == expected\n",
    "    \n",
    "    # randomize\n",
    "    @pytest.mark.randomize(num=int, min_num=3, max_num=1000, ncalls=5)\n",
    "    def test_quickcheck(self, num):\n",
    "        assert self.sc.action(num) == num**2"
   ]
  },
  {
   "cell_type": "markdown",
   "metadata": {},
   "source": [
    "### Упражнение 2:\n",
    "\n",
    "Напишите класс **Stack** и покройте его тестами (использовать parametrize и randomize)\n",
    "\n",
    "Основные функции: push, pop, last, size\n",
    "\n",
    "Должно быть 2 файла:\n",
    "- stack.py\n",
    "- test_stack.py"
   ]
  },
  {
   "cell_type": "markdown",
   "metadata": {},
   "source": [
    "Больше информации: https://docs.pytest.org/en/latest/"
   ]
  }
 ],
 "metadata": {
  "kernelspec": {
   "display_name": "Python 3",
   "language": "python",
   "name": "python3"
  },
  "language_info": {
   "codemirror_mode": {
    "name": "ipython",
    "version": 3
   },
   "file_extension": ".py",
   "mimetype": "text/x-python",
   "name": "python",
   "nbconvert_exporter": "python",
   "pygments_lexer": "ipython3",
   "version": "3.6.3"
  }
 },
 "nbformat": 4,
 "nbformat_minor": 2
}
