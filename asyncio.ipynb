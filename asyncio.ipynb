{
 "cells": [
  {
   "cell_type": "markdown",
   "metadata": {},
   "source": [
    "# asyncio\n",
    "\n",
    "https://habr.com/ru/post/337420/"
   ]
  },
  {
   "cell_type": "code",
   "execution_count": 1,
   "metadata": {
    "collapsed": true
   },
   "outputs": [],
   "source": [
    "import asyncio  # Модуль для организации конкурентного программирования"
   ]
  },
  {
   "cell_type": "markdown",
   "metadata": {},
   "source": [
    "- Concurrency (конкурентность) — две или более задачи могут запускаться, выполняться и завершаться в перекрывающиеся периоды времени (наиболее общее понятие)\n",
    "- Parallel execution (параллелизм) — исполнение нескольких задач одновременно, например, при помощи многоядерного процессора\n",
    "- Multithreading (многопоточность) — один из способов реализации конкурентности путем выделения абстракции \"рабочего потока\" (возможна и на многоядерных, и на одноядерных процессорах)\n",
    "- Asynchrony (асинхронность) — возникновение событий, которые происходят одновременно с выполнением программы, без блокировки программы для ожидания результатов"
   ]
  },
  {
   "cell_type": "code",
   "execution_count": null,
   "metadata": {
    "collapsed": true
   },
   "outputs": [],
   "source": []
  }
 ],
 "metadata": {
  "kernelspec": {
   "display_name": "Python 3",
   "language": "python",
   "name": "python3"
  },
  "language_info": {
   "codemirror_mode": {
    "name": "ipython",
    "version": 3
   },
   "file_extension": ".py",
   "mimetype": "text/x-python",
   "name": "python",
   "nbconvert_exporter": "python",
   "pygments_lexer": "ipython3",
   "version": "3.6.3"
  }
 },
 "nbformat": 4,
 "nbformat_minor": 2
}
