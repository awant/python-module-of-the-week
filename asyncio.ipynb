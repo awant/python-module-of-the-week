{
 "cells": [
  {
   "cell_type": "markdown",
   "metadata": {},
   "source": [
    "# asyncio"
   ]
  },
  {
   "cell_type": "markdown",
   "metadata": {},
   "source": [
    "Определения:\n",
    "\n",
    "- Concurrency (конкурентность) — две или более задачи могут запускаться, выполняться и завершаться в перекрывающиеся периоды времени (наиболее общее понятие)\n",
    "- Parallel execution (параллелизм) — исполнение нескольких задач одновременно, например, при помощи многоядерного процессора\n",
    "- Multithreading (многопоточность) — один из способов реализации конкурентности путем выделения абстракции \"рабочего потока\" (возможна и на многоядерных, и на одноядерных процессорах)\n",
    "- Asynchrony (асинхронность) — возникновение событий, которые происходят одновременно с выполнением программы, без блокировки программы для ожидания результатов"
   ]
  },
  {
   "cell_type": "markdown",
   "metadata": {},
   "source": [
    "#### Важно понимать разницу между параллелизмом и конкурентностью!"
   ]
  },
  {
   "cell_type": "markdown",
   "metadata": {},
   "source": [
    "### Выделим 2 типа операций:\n",
    "    \n",
    "* CPU-bound — нагружают вычислительные мощности текущего устройства\n",
    "* IO-bound — связаны с длительным ожиданием другого устройства, например, сетевой карты или диска"
   ]
  },
  {
   "cell_type": "markdown",
   "metadata": {},
   "source": [
    "Пример операции с длительным ожиданием:"
   ]
  },
  {
   "cell_type": "code",
   "execution_count": null,
   "metadata": {
    "collapsed": true
   },
   "outputs": [],
   "source": [
    "with open('large_file.txt') as f:\n",
    "    # blocks until OS reads all the data\n",
    "    data = f.read()"
   ]
  },
  {
   "cell_type": "markdown",
   "metadata": {},
   "source": [
    "Чтение из большого файла может занимать несколько секунд, но эта операция блокирующая, хотя процессор мог бы в это время совершать другую полезную работу. Процессор \"простаивает\" пока не произойдет чтение всего файла."
   ]
  },
  {
   "cell_type": "markdown",
   "metadata": {},
   "source": [
    "Еще один пример (мы ждем, пока не получим ответ с сайта, хотя могли бы в это время выполнять полезную работу и продолжить исполнение этого кода как только получили бы ответ):"
   ]
  },
  {
   "cell_type": "code",
   "execution_count": null,
   "metadata": {
    "collapsed": true
   },
   "outputs": [],
   "source": [
    "import requests\n",
    "\n",
    "# blocks until site returns response\n",
    "response = requests.get('http://very.slow.site')"
   ]
  },
  {
   "cell_type": "markdown",
   "metadata": {},
   "source": [
    "### Асинхронные операции\n",
    "\n",
    "Асинхронные операции чтения/записи позволяют программе продолжать выполнение, не дожидаясь результата их исполнения.\n",
    "\n",
    "С помощью механизма callback'ов можно реализовать требуемую логику."
   ]
  },
  {
   "cell_type": "markdown",
   "metadata": {},
   "source": [
    "### Пример:"
   ]
  },
  {
   "cell_type": "code",
   "execution_count": null,
   "metadata": {
    "collapsed": true
   },
   "outputs": [],
   "source": [
    "# функция, отвечающая за обработку ответа\n",
    "def handle_response(response):\n",
    "    print('\\n{:.70}...'.format(response.body))\n",
    "\n",
    "# создание объекта для общения с сетью\n",
    "http_client = AsyncHTTPClient()\n",
    "\n",
    "# неблокирующий вызов функции!\n",
    "# после вызова функции fetch будет выполняться следующий за этой строчкой код без ожидания получения ответа\n",
    "# ответ с сайта будет обработан функцией handle_response (так называемым callback'ом)\n",
    "http_client.fetch('http://yandex.ru', callback=handle_response)"
   ]
  },
  {
   "cell_type": "markdown",
   "metadata": {},
   "source": [
    "### Ад обратных вызовов (callback hell)\n",
    "\n",
    "Проблема данного подхода заключается в том, что внутри одной callback функции может быть вызвана другая и т.д. Такой код становится трудно читаем."
   ]
  },
  {
   "cell_type": "markdown",
   "metadata": {},
   "source": [
    "Для этого были придуманы корутины (coroutines)"
   ]
  },
  {
   "cell_type": "markdown",
   "metadata": {
    "collapsed": true
   },
   "source": [
    "### Корутины\n",
    "\n",
    "(функция/генератор, которая умеет взаимодействовать с event loop'ом)\n",
    "\n",
    "https://docs.python.org/3/library/asyncio-task.html"
   ]
  },
  {
   "cell_type": "markdown",
   "metadata": {},
   "source": [
    "### Немного экскурса в историю"
   ]
  },
  {
   "cell_type": "markdown",
   "metadata": {},
   "source": [
    "Python 2.2 (генераторы, ключевое слово - yield):"
   ]
  },
  {
   "cell_type": "code",
   "execution_count": null,
   "metadata": {
    "collapsed": true
   },
   "outputs": [],
   "source": [
    "def lazy_range(up_to):\n",
    "    index = 0\n",
    "    while index < up_to:\n",
    "        yield index\n",
    "        index += 1"
   ]
  },
  {
   "cell_type": "markdown",
   "metadata": {},
   "source": [
    "Python 3.3 добавляется важный синтаксический сахар **yield from**:"
   ]
  },
  {
   "cell_type": "code",
   "execution_count": 6,
   "metadata": {},
   "outputs": [
    {
     "data": {
      "text/plain": [
       "[5, 4, 3, 2, 1, 0, 1, 2, 3, 4]"
      ]
     },
     "execution_count": 6,
     "metadata": {},
     "output_type": "execute_result"
    }
   ],
   "source": [
    "def g(x):\n",
    "    yield from range(x, 0, -1)\n",
    "    yield from range(x)\n",
    "\n",
    "list(g(5))"
   ]
  },
  {
   "cell_type": "markdown",
   "metadata": {},
   "source": [
    "В Python 3.4 появляется фреймворк asyncio:"
   ]
  },
  {
   "cell_type": "code",
   "execution_count": 2,
   "metadata": {
    "collapsed": true
   },
   "outputs": [],
   "source": [
    "import asyncio"
   ]
  },
  {
   "cell_type": "markdown",
   "metadata": {},
   "source": [
    "И становится возможным написать:"
   ]
  },
  {
   "cell_type": "code",
   "execution_count": 11,
   "metadata": {},
   "outputs": [
    {
     "name": "stdout",
     "output_type": "stream",
     "text": [
      "A: 2\n",
      "B: 3\n",
      "A: 1\n",
      "B: 2\n",
      "B: 1\n"
     ]
    },
    {
     "data": {
      "text/plain": [
       "({<Task finished coro=<countdown() done, defined at <ipython-input-11-22bc4cdd050e>:2> result=None>,\n",
       "  <Task finished coro=<countdown() done, defined at <ipython-input-11-22bc4cdd050e>:2> result=None>},\n",
       " set())"
      ]
     },
     "execution_count": 11,
     "metadata": {},
     "output_type": "execute_result"
    }
   ],
   "source": [
    "# корутина\n",
    "@asyncio.coroutine\n",
    "def countdown(label, n):\n",
    "    while n > 0:\n",
    "        print('{}: {}'.format(label, n))\n",
    "        yield from asyncio.sleep(1)\n",
    "        n -= 1\n",
    "\n",
    "# цикл событий (подробнее об этом чуть позже)\n",
    "loop = asyncio.get_event_loop()\n",
    "tasks = [\n",
    "    countdown('A', 2),\n",
    "    countdown('B', 3)\n",
    "]\n",
    "loop.run_until_complete(asyncio.wait(tasks))"
   ]
  },
  {
   "cell_type": "markdown",
   "metadata": {},
   "source": [
    "Синтаксически корутина очень сильно напоминает генератор, хотя имеет совершенно другой смысл.\n",
    "\n",
    "Для избежания путаницы, в **Python 3.5** вводят ключевые слова **async/await**, окончательно скрыв тот факт, что корутина - это всё тот же генератор."
   ]
  },
  {
   "cell_type": "markdown",
   "metadata": {},
   "source": [
    "### Начиная с Python 3.5 возможно написать:"
   ]
  },
  {
   "cell_type": "code",
   "execution_count": 9,
   "metadata": {
    "collapsed": true
   },
   "outputs": [],
   "source": [
    "# Корутина\n",
    "async def compute(a, b):\n",
    "    print(\"Compute...\")\n",
    "    await asyncio.sleep(1.0)\n",
    "    return a + b"
   ]
  },
  {
   "cell_type": "markdown",
   "metadata": {},
   "source": [
    "Разберемся с asyncio. Для начала выделим понятия, которыми оперирует asyncio:\n",
    "\n",
    "* **цикл событий** (event loop) по большей части всего лишь управляет выполнением различных задач: регистрирует поступление и запускает в подходящий момент\n",
    "* **корутины** — специальные функции, похожие на генераторы python, от которых ожидают (await), что они будут отдавать управление обратно в цикл событий. Необходимо, чтобы они были запущены именно через цикл событий\n",
    "* **футуры** — объекты, в которых хранится текущий результат выполнения какой-либо задачи. Это может быть информация о том, что задача ещё не обработана или уже полученный результат; а может быть вообще исключение"
   ]
  },
  {
   "cell_type": "markdown",
   "metadata": {},
   "source": [
    "C помощью синтаксиса **await** мы определяем места, где можно переключиться на другие ожидающие выполнения задачи."
   ]
  },
  {
   "cell_type": "markdown",
   "metadata": {},
   "source": [
    "Посмотрим на то, как это работает:"
   ]
  },
  {
   "cell_type": "code",
   "execution_count": 3,
   "metadata": {},
   "outputs": [
    {
     "name": "stdout",
     "output_type": "stream",
     "text": [
      "Running in foo\n",
      "Explicit context to bar\n",
      "Explicit context switch to foo again\n",
      "Implicit context switch back to bar\n"
     ]
    },
    {
     "data": {
      "text/plain": [
       "({<Task finished coro=<foo() done, defined at <ipython-input-3-5c702e99f3f9>:1> result=None>,\n",
       "  <Task finished coro=<bar() done, defined at <ipython-input-3-5c702e99f3f9>:6> result=None>},\n",
       " set())"
      ]
     },
     "execution_count": 3,
     "metadata": {},
     "output_type": "execute_result"
    }
   ],
   "source": [
    "async def foo():\n",
    "    print('Running in foo')\n",
    "    await asyncio.sleep(0) # здесь возможно переключение на другую задачу\n",
    "    print('Explicit context switch to foo again')\n",
    "\n",
    "async def bar():\n",
    "    print('Explicit context to bar')\n",
    "    await asyncio.sleep(0) # здесь также возможно переключение на другую задачу\n",
    "    print('Implicit context switch back to bar')\n",
    "\n",
    "ioloop = asyncio.get_event_loop()  # получение event loop'а главного потока\n",
    "tasks = [ioloop.create_task(foo()), ioloop.create_task(bar())] \n",
    "wait_tasks = asyncio.wait(tasks)\n",
    "ioloop.run_until_complete(wait_tasks)"
   ]
  },
  {
   "cell_type": "markdown",
   "metadata": {},
   "source": [
    "Корутины содержат операторы yield, с помощью которых мы определяем места, где можно переключиться на другие ожидающие выполнения задачи.\n",
    "\n",
    "За переключение контекста в asyncio отвечает yield, который передаёт управление обратно в event loop, а тот в свою очередь — к другой корутине.\n",
    "\n",
    "Используя **await** в какой-либо корутине, мы, таким образом, объявляем, что корутина может отдавать управление обратно в event loop, который, в свою очередь, запустит какую-либо следующую задачу: bar. В bar произойдёт тоже самое: на await asyncio.sleep управление будет передано обратно в цикл событий, который в нужное время вернётся к выполнению foo."
   ]
  },
  {
   "cell_type": "markdown",
   "metadata": {},
   "source": [
    "Еще один пример (с получением результата):"
   ]
  },
  {
   "cell_type": "code",
   "execution_count": 5,
   "metadata": {},
   "outputs": [
    {
     "name": "stdout",
     "output_type": "stream",
     "text": [
      "Compute...\n",
      "1 + 2 = 3\n"
     ]
    }
   ],
   "source": [
    "async def compute(a, b):\n",
    "    print('Compute...')\n",
    "    await asyncio.sleep(1.0)\n",
    "    return a + b\n",
    "\n",
    "async def print_sum(a, b):\n",
    "    result = await compute(a, b)\n",
    "    print('{} + {} = {}'.format(a, b, result))\n",
    "\n",
    "loop = asyncio.get_event_loop()\n",
    "loop.run_until_complete(print_sum(1, 2))"
   ]
  },
  {
   "cell_type": "markdown",
   "metadata": {},
   "source": [
    "<Вставить картинку>"
   ]
  },
  {
   "cell_type": "markdown",
   "metadata": {},
   "source": [
    "Еще один пример на создание и управление тасками:"
   ]
  },
  {
   "cell_type": "code",
   "execution_count": null,
   "metadata": {
    "collapsed": true
   },
   "outputs": [],
   "source": [
    "import asyncio\n",
    "\n",
    "async def say(what, when):\n",
    "    await asyncio.sleep(when)\n",
    "    print(what)\n",
    "\n",
    "async def stop_after(loop, when):\n",
    "    await asyncio.sleep(when)\n",
    "    loop.stop()\n",
    "\n",
    "\n",
    "loop = asyncio.get_event_loop()\n",
    "\n",
    "loop.create_task(say('first hello', 2))\n",
    "loop.create_task(say('second hello', 1))\n",
    "loop.create_task(say('third hello', 4))\n",
    "loop.create_task(stop_after(loop, 3))\n",
    "\n",
    "loop.run_forever()"
   ]
  },
  {
   "cell_type": "markdown",
   "metadata": {},
   "source": [
    "Начиная с Python 3.7 синтаксис упростился еще сильнее:"
   ]
  },
  {
   "cell_type": "code",
   "execution_count": null,
   "metadata": {},
   "outputs": [],
   "source": [
    "import asyncio\n",
    "\n",
    "async def main():\n",
    "    print('Hello ...')\n",
    "    await asyncio.sleep(1)\n",
    "    print('... World!')\n",
    "\n",
    "# Python 3.7+\n",
    "asyncio.run(main())"
   ]
  },
  {
   "cell_type": "markdown",
   "metadata": {},
   "source": [
    "### Упражнение №1\n",
    "\n",
    "Что будет напечатано и почему?"
   ]
  },
  {
   "cell_type": "code",
   "execution_count": 4,
   "metadata": {},
   "outputs": [
    {
     "name": "stdout",
     "output_type": "stream",
     "text": [
      "Task B: Compute factorial(2)...\n",
      "Task C: Compute factorial(2)...\n",
      "Task A: Compute factorial(2)...\n",
      "Task B: Compute factorial(3)...\n",
      "Task C: Compute factorial(3)...\n",
      "Task A: factorial(2) = 2\n",
      "Task B: factorial(3) = 6\n",
      "Task C: Compute factorial(4)...\n",
      "Task C: factorial(4) = 24\n"
     ]
    }
   ],
   "source": [
    "async def factorial(name, number):\n",
    "    f = 1\n",
    "    for i in range(2, number + 1):\n",
    "        print(f\"Task {name}: Compute factorial({i})...\")\n",
    "        await asyncio.sleep(1)\n",
    "        f *= i\n",
    "    print(f\"Task {name}: factorial({number}) = {f}\")\n",
    "\n",
    "async def main():\n",
    "    await asyncio.gather(\n",
    "        factorial(\"A\", 2),\n",
    "        factorial(\"B\", 3),\n",
    "        factorial(\"C\", 4),\n",
    "    )\n",
    "\n",
    "loop = asyncio.get_event_loop()\n",
    "loop.run_until_complete(main())"
   ]
  },
  {
   "cell_type": "markdown",
   "metadata": {},
   "source": [
    "### Waiting & timeouts"
   ]
  },
  {
   "cell_type": "markdown",
   "metadata": {},
   "source": [
    "Пример на выставление timeout:"
   ]
  },
  {
   "cell_type": "code",
   "execution_count": 7,
   "metadata": {},
   "outputs": [
    {
     "name": "stdout",
     "output_type": "stream",
     "text": [
      "timeout!\n"
     ]
    }
   ],
   "source": [
    "async def eternity():\n",
    "    # Sleep for one hour\n",
    "    await asyncio.sleep(3600)\n",
    "    print('yay!')\n",
    "\n",
    "async def main():\n",
    "    # Wait for at most 1 second\n",
    "    try:\n",
    "        await asyncio.wait_for(eternity(), timeout=1.0)\n",
    "    except asyncio.TimeoutError:\n",
    "        print('timeout!')\n",
    "\n",
    "loop = asyncio.get_event_loop()\n",
    "loop.run_until_complete(main())"
   ]
  },
  {
   "cell_type": "code",
   "execution_count": 8,
   "metadata": {},
   "outputs": [
    {
     "name": "stdout",
     "output_type": "stream",
     "text": [
      "Factorial(2) = 2\n",
      "Factorial(3) = 6\n",
      "Factorial(4) = 24\n",
      "Factorial(5) = 120\n"
     ]
    }
   ],
   "source": [
    "async def factorial(number):\n",
    "    f = 1\n",
    "    for i in range(2, number + 1):\n",
    "        await asyncio.sleep(1)\n",
    "        f *= i\n",
    "    return number, f\n",
    "\n",
    "async def main():\n",
    "    for fut in asyncio.as_completed([factorial(4), factorial(3),\n",
    "                                     factorial(5), factorial(2)]):\n",
    "        number, result = await fut\n",
    "        print(f\"Factorial({number}) = {result}\")  # печатается каждый раз как только будет выполнена какая-либо таска\n",
    "        \n",
    "loop = asyncio.get_event_loop()\n",
    "loop.run_until_complete(main())"
   ]
  },
  {
   "cell_type": "markdown",
   "metadata": {},
   "source": [
    "## async with\n",
    "Асинхронный контекстный менеджер - это контекстный менджер, который умеет приостанавливать выполнение в методах входа и выхода: \\__aenter\\__(), \\__aexit\\__()"
   ]
  },
  {
   "cell_type": "code",
   "execution_count": null,
   "metadata": {
    "collapsed": true
   },
   "outputs": [],
   "source": [
    "lock = asyncio.Lock()\n",
    "\n",
    "# ... later\n",
    "await lock.acquire()\n",
    "try:\n",
    "    # access shared state\n",
    "finally:\n",
    "    lock.release()"
   ]
  },
  {
   "cell_type": "code",
   "execution_count": null,
   "metadata": {
    "collapsed": true
   },
   "outputs": [],
   "source": [
    "lock = asyncio.Lock()\n",
    "\n",
    "# ... later\n",
    "async with lock:\n",
    "    # access shared state"
   ]
  },
  {
   "cell_type": "markdown",
   "metadata": {},
   "source": [
    "### aiohttp\n",
    "\n",
    "Рядом с asyncio создано огромное количество асинхронных модулей для решения всевозможных задач. **aiohttp** - лишь одна из них. Это асинхронный HTTP Клиент/Сервер"
   ]
  },
  {
   "cell_type": "markdown",
   "metadata": {},
   "source": [
    "В следующем примере получаем содержимое страницы google.com:"
   ]
  },
  {
   "cell_type": "code",
   "execution_count": null,
   "metadata": {
    "collapsed": true
   },
   "outputs": [],
   "source": [
    "import aiohttp\n",
    "\n",
    "async with aiohttp.ClientSession() as session:\n",
    "    async with session.get('http://google.com') as resp:\n",
    "        text = await resp.text()\n",
    "        print('{:.70}...'.format(text))"
   ]
  },
  {
   "cell_type": "markdown",
   "metadata": {},
   "source": [
    "Реализация простого сервера:"
   ]
  },
  {
   "cell_type": "code",
   "execution_count": 11,
   "metadata": {
    "scrolled": true
   },
   "outputs": [
    {
     "name": "stdout",
     "output_type": "stream",
     "text": [
      "======== Running on http://0.0.0.0:8080 ========\n",
      "(Press CTRL+C to quit)\n"
     ]
    }
   ],
   "source": [
    "from aiohttp import web\n",
    "\n",
    "async def handle(request):\n",
    "    name = request.match_info.get('name', 'Anonymous')\n",
    "    text = 'Hello, ' + name\n",
    "    # ...\n",
    "    # здесь идет некоторая дополнительная логика с async/await\n",
    "    #\n",
    "    return web.Response(text=text)\n",
    "\n",
    "app = web.Application()\n",
    "app.add_routes([web.get('/', handle),\n",
    "                web.get('/{name}', handle)])\n",
    "\n",
    "web.run_app(app)"
   ]
  },
  {
   "cell_type": "markdown",
   "metadata": {},
   "source": [
    "### Задача №1\n",
    "\n",
    "Узнать свой IP адрес. Есть куча сервисов, которые позволяют узнать ваш ip. Но на момент запуска программы вы не знаете какой из сервисов доступен. Вместо того, чтобы опрашивать каждый из этих сервисов последовательно, можно запустить все запросы конкурентно и выбрать первый успешный.\n",
    "\n",
    "Потребуется **asyncio.wait()** и параметр **return_when**"
   ]
  },
  {
   "cell_type": "code",
   "execution_count": null,
   "metadata": {
    "collapsed": true
   },
   "outputs": [],
   "source": [
    "from collections import namedtuple\n",
    "import time\n",
    "import asyncio\n",
    "from concurrent.futures import FIRST_COMPLETED\n",
    "import aiohttp\n",
    "\n",
    "Service = namedtuple('Service', ('name', 'url', 'ip_attr'))\n",
    "\n",
    "SERVICES = (\n",
    "    Service('ipify', 'https://api.ipify.org?format=json', 'ip'),\n",
    "    Service('ip-api', 'http://ip-api.com/json', 'query')\n",
    ")\n",
    "\n",
    "async def fetch_ip(service):\n",
    "    # получение ip\n",
    "\n",
    "\n",
    "async def asynchronous():\n",
    "    # TODO:\n",
    "    # создание футур для сервисов\n",
    "    # используйте FIRST_COMPLETED\n",
    "\n",
    "ioloop = asyncio.get_event_loop()\n",
    "ioloop.run_until_complete(asynchronous())"
   ]
  },
  {
   "cell_type": "markdown",
   "metadata": {},
   "source": [
    "Для правильной реализации немного теории.\n",
    "\n",
    "Возможные состояния футур:\n",
    "- ожидание (pending)\n",
    "- выполнение (running)\n",
    "- выполнено (done)\n",
    "- отменено (cancelled)\n",
    "\n",
    "Когда футура находится в состояние **done**, у неё можно получить результат выполнения. В состояниях **pending** и **running** такая операция приведёт к исключению **InvalidStateError**, а в случае **canelled** будет **CancelledError**, и наконец, если исключение произошло в самой корутине, оно будет сгенерировано снова (также, как это сделано при вызове exception).\n",
    "\n",
    "Узнать состояние футуры с помощью методов **done**, **cancelled** или **running**, но не забывайте, что в случае **done** вызов **result** может вернуть как ожидаемый результат, так и исключение, которое возникло в процессе работы. \n",
    "\n",
    "Для отмены выполнения футуры есть метод **cancel** (он то нам и требуется для корректного завершения работы)"
   ]
  },
  {
   "cell_type": "markdown",
   "metadata": {},
   "source": [
    "Теперь мы изучили достаточно для того, чтобы написать простого чат бота, который будет делать что-то полезное."
   ]
  },
  {
   "cell_type": "markdown",
   "metadata": {
    "collapsed": true
   },
   "source": [
    "### Задача №2\n",
    "\n",
    "Напишите телеграм бота, который будет на сообщение присылать соответствующее изображение\n",
    "\n",
    "* установить aiogram 1.4 - асинхронная обертка над api телеграмма\n",
    "* поговорить с @FatherBot, создать бота и запомнить выданный токен\n",
    "* В рф нужно использовать впн или прокси (в сети есть огромное количество списков адресов)\n",
    "* разобраться с примером эхо бота ниже\n",
    "* написать требуемый функционал (картинки можно запрашивать через поиск яндекса или гугла, существуют готовые api, можно написать и самостоятельно)"
   ]
  },
  {
   "cell_type": "code",
   "execution_count": null,
   "metadata": {
    "collapsed": true
   },
   "outputs": [],
   "source": [
    "from aiogram import Bot, types\n",
    "from aiogram.dispatcher import Dispatcher\n",
    "from aiogram.utils import executor\n",
    "\n",
    "PROXY_URL = 'socks5://xxx.xxx.xxx.xxx' # вставить здесь подходящий ip\n",
    "\n",
    "secret_token = 'XXX'  # строка вида: 123456789:ABCDEFGHJABCDEFGHJABCDEFGHJABCDEFGHJ\n",
    "\n",
    "bot = Bot(token=secret_token, proxy=PROXY_URL)\n",
    "dp = Dispatcher(bot)\n",
    "\n",
    "\n",
    "@dp.message_handler(commands=['start', 'help'])\n",
    "async def send_welcome(message: types.Message):\n",
    "    await message.reply(\"Hi!\\nI'm EchoBot!\\nPowered by aiogram.\")\n",
    "\n",
    "\n",
    "@dp.message_handler()\n",
    "async def echo(message: types.Message):\n",
    "    await message.reply(message.text)\n",
    "\n",
    "\n",
    "if __name__ == '__main__':\n",
    "    executor.start_polling(dp)"
   ]
  }
 ],
 "metadata": {
  "kernelspec": {
   "display_name": "Python 3",
   "language": "python",
   "name": "python3"
  },
  "language_info": {
   "codemirror_mode": {
    "name": "ipython",
    "version": 3
   },
   "file_extension": ".py",
   "mimetype": "text/x-python",
   "name": "python",
   "nbconvert_exporter": "python",
   "pygments_lexer": "ipython3",
   "version": "3.6.3"
  }
 },
 "nbformat": 4,
 "nbformat_minor": 2
}
