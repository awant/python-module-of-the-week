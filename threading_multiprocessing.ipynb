{
 "cells": [
  {
   "cell_type": "markdown",
   "metadata": {},
   "source": [
    "# threading"
   ]
  },
  {
   "cell_type": "markdown",
   "metadata": {},
   "source": [
    "### Процесс и Поток\n",
    "\n",
    "Процесс - программа, которая выполняется в текущий момент.\n",
    "\n",
    "<Представление программы в памяти>: https://commons.wikimedia.org/wiki/File:C-memlayout-ru.svg?uselang=ru\n",
    "\n",
    "Поток (поток выполнения, thread) - единица обработки, исполнение которой может быть назначено ядром операционной системы. Исполняющаяся последовательность инструкций внутри процесса.\n",
    "\n",
    "Поток также называют \"легковестным процессом\" (https://learn-gevent-socketio.readthedocs.io/en/latest/general_concepts.html).\n",
    "\n",
    "Несколько потоков выполнения могут существовать в рамках одного и того же процесса и совместно использовать его ресурсы.\n",
    "\n",
    "Процесс с двумя потоками выполнения на одном ядре процессора: https://commons.wikimedia.org/wiki/File:Multithreaded_process.svg?uselang=ru\n",
    "\n",
    "Процессы с тредами: https://sites.google.com/site/sureshdevang/thread-vs-process\n"
   ]
  },
  {
   "cell_type": "markdown",
   "metadata": {},
   "source": [
    "* одно ядро процессора в один момент времени может исполнять только один тред\n",
    "* треды одного процесса могут исполняться физически одновременно (на разных ядрах)\n",
    "* бессмысленно порождать вычислительных тредов больше, чем у вас есть ядер"
   ]
  },
  {
   "cell_type": "markdown",
   "metadata": {},
   "source": [
    "### Исполнение кода питона\n",
    "\n",
    "CPython (самая популярная реализация интерпретатора питона) был реализован с максимальной простотой и имеет потокобезопасный механизм - GIL (Global Interpreter Lock).\n",
    "\n",
    "Благодаря этому Lock'у интерпретатор питона может исполнять лишь одну команду в один момент времени (single threading). По этой причине, создание несколько потоков не приведет к их одновременному исполнению на разных ядрах процессора, тем не менее, потоки полезны и в python."
   ]
  },
  {
   "cell_type": "code",
   "execution_count": null,
   "metadata": {
    "collapsed": true
   },
   "outputs": [],
   "source": [
    "# модуль питона для работы с потоками\n",
    "import threading"
   ]
  },
  {
   "cell_type": "markdown",
   "metadata": {},
   "source": [
    "Рассмотрим простой пример программы, создающей потоки:"
   ]
  },
  {
   "cell_type": "code",
   "execution_count": 23,
   "metadata": {},
   "outputs": [
    {
     "name": "stdout",
     "output_type": "stream",
     "text": [
      "Hello 0\n",
      "Hello 1\n",
      "Hello 2Hello 3Hello 4\n",
      "\n",
      "\n"
     ]
    }
   ],
   "source": [
    "import threading # модуль для работы с потоками (threads)\n",
    "import sys\n",
    "\n",
    "def thread_job(number):\n",
    "    print('Hello {}'.format(number))\n",
    "    sys.stdout.flush()\n",
    "\n",
    "def run_threads(count):\n",
    "    thread_job(0)\n",
    "    threads = [\n",
    "        threading.Thread(target=thread_job, args=(i,))\n",
    "        for i in range(1, count + 1)\n",
    "    ]\n",
    "    for thread in threads:\n",
    "        thread.start()  # каждый поток должен быть запущен\n",
    "    for thread in threads:\n",
    "        thread.join()  # дожидаемся исполнения всех потоков\n",
    "\n",
    "run_threads(4)"
   ]
  },
  {
   "cell_type": "markdown",
   "metadata": {},
   "source": [
    "### Упражнение №1\n",
    "\n",
    "Запустите следующий код. В чем проблема данного кода? Всегда ли counter = 10 после исполнения кода программы?"
   ]
  },
  {
   "cell_type": "code",
   "execution_count": 26,
   "metadata": {},
   "outputs": [
    {
     "name": "stdout",
     "output_type": "stream",
     "text": [
      "2 1 3 4 5 6 7 8 9 10 "
     ]
    },
    {
     "data": {
      "text/plain": [
       "10"
      ]
     },
     "execution_count": 26,
     "metadata": {},
     "output_type": "execute_result"
    }
   ],
   "source": [
    "counter = 0\n",
    "\n",
    "def thread_job():\n",
    "    global counter\n",
    "    old_counter = counter\n",
    "    counter = old_counter + 1\n",
    "    print('{} '.format(counter), end='')\n",
    "\n",
    "threads = [threading.Thread(target=thread_job) for _ in range(10)]\n",
    "for thread in threads:\n",
    "    thread.start()\n",
    "for thread in threads:\n",
    "    thread.join()\n",
    "\n",
    "counter"
   ]
  },
  {
   "cell_type": "markdown",
   "metadata": {},
   "source": [
    "Демонстрация \"проблемности\" кода:"
   ]
  },
  {
   "cell_type": "code",
   "execution_count": 33,
   "metadata": {},
   "outputs": [
    {
     "name": "stdout",
     "output_type": "stream",
     "text": [
      "1 2 3 4 5 6 7 8 9 10 "
     ]
    },
    {
     "data": {
      "text/plain": [
       "10"
      ]
     },
     "execution_count": 33,
     "metadata": {},
     "output_type": "execute_result"
    }
   ],
   "source": [
    "import random\n",
    "import time\n",
    "\n",
    "counter = 0\n",
    "def thread_job():\n",
    "    global counter\n",
    "    old_counter = counter\n",
    "    time.sleep(random.randint(0, 1))\n",
    "    counter = old_counter + 1\n",
    "    print('{} '.format(counter), end='')\n",
    "\n",
    "threads = [threading.Thread(target=thread_job) for _ in range(10)]\n",
    "for thread in threads:\n",
    "    thread.start()\n",
    "for thread in threads:\n",
    "    thread.join()\n",
    "counter"
   ]
  },
  {
   "cell_type": "markdown",
   "metadata": {},
   "source": [
    "#### Почему так происходит?"
   ]
  },
  {
   "cell_type": "markdown",
   "metadata": {},
   "source": [
    "Одно из возможных решений (не самое аккуратное):"
   ]
  },
  {
   "cell_type": "code",
   "execution_count": 21,
   "metadata": {},
   "outputs": [
    {
     "name": "stdout",
     "output_type": "stream",
     "text": [
      "1 2 3 4 5 6 7 8 9 10 "
     ]
    },
    {
     "data": {
      "text/plain": [
       "10"
      ]
     },
     "execution_count": 21,
     "metadata": {},
     "output_type": "execute_result"
    }
   ],
   "source": [
    "counter = 0\n",
    "\n",
    "def thread_job(lock):\n",
    "    lock.acquire() # mutex\n",
    "    global counter\n",
    "    counter += 1\n",
    "    print('{} '.format(counter), end='')\n",
    "    sys.stdout.flush()\n",
    "    lock.release()\n",
    "\n",
    "lock = threading.Lock()\n",
    "threads = [\n",
    "    threading.Thread(target=thread_job, args=(lock,))\n",
    "    for i in range(10)\n",
    "]\n",
    "for thread in threads:\n",
    "    thread.start()\n",
    "for thread in threads:\n",
    "    thread.join()\n",
    "\n",
    "counter"
   ]
  },
  {
   "cell_type": "markdown",
   "metadata": {},
   "source": [
    "Решение лучше (с with, https://jeffknupp.com/blog/2016/03/07/python-with-context-managers):"
   ]
  },
  {
   "cell_type": "code",
   "execution_count": 30,
   "metadata": {},
   "outputs": [
    {
     "name": "stdout",
     "output_type": "stream",
     "text": [
      "1 2 3 4 5 6 7 8 9 10 "
     ]
    },
    {
     "data": {
      "text/plain": [
       "10"
      ]
     },
     "execution_count": 30,
     "metadata": {},
     "output_type": "execute_result"
    }
   ],
   "source": [
    "counter = 0\n",
    "\n",
    "def thread_job(lock):\n",
    "    with lock:\n",
    "        global counter\n",
    "        counter += 1\n",
    "        print('{} '.format(counter), end='')\n",
    "        sys.stdout.flush()\n",
    "\n",
    "lock = threading.Lock()\n",
    "threads = [\n",
    "    threading.Thread(target=thread_job, args=(lock,))\n",
    "    for i in range(10)\n",
    "]\n",
    "for thread in threads:\n",
    "    thread.start()\n",
    "for thread in threads:\n",
    "    thread.join()\n",
    "\n",
    "counter"
   ]
  },
  {
   "cell_type": "markdown",
   "metadata": {},
   "source": [
    "Лучшее решение (используя queue (очереди) на счет и вывод на экран):"
   ]
  },
  {
   "cell_type": "code",
   "execution_count": 34,
   "metadata": {},
   "outputs": [
    {
     "name": "stdout",
     "output_type": "stream",
     "text": [
      "1\n",
      "2\n",
      "3\n",
      "4\n",
      "5\n",
      "6\n",
      "7\n",
      "8\n",
      "9\n",
      "10\n"
     ]
    }
   ],
   "source": [
    "import threading\n",
    "import queue\n",
    "\n",
    "class Counter:\n",
    "    def __init__(self, value):\n",
    "        self.value = value\n",
    "\n",
    "def printer(printing_queue):\n",
    "    while True:\n",
    "        value = printing_queue.get()\n",
    "        print(value)\n",
    "        printing_queue.task_done()\n",
    "\n",
    "def calculator(counter, calculation_queue, printing_queue):\n",
    "    while True:\n",
    "        delta = calculation_queue.get()\n",
    "        counter.value += delta\n",
    "        printing_queue.put(counter.value)\n",
    "        calculation_queue.task_done()\n",
    "\n",
    "def delta_generator(calculation_queue):\n",
    "    calculation_queue.put(1)\n",
    "\n",
    "# Main\n",
    "printing_queue = queue.Queue()\n",
    "printer_daemon = threading.Thread(\n",
    "    target=printer,\n",
    "    args=(printing_queue,),\n",
    "    daemon=True\n",
    ")\n",
    "printer_daemon.start()\n",
    "\n",
    "counter = Counter(0)\n",
    "calculation_queue = queue.Queue()\n",
    "calculator_daemon = threading.Thread(\n",
    "    target=calculator,\n",
    "    args=(counter, calculation_queue, printing_queue),\n",
    "    daemon=True\n",
    ")\n",
    "calculator_daemon.start()\n",
    "\n",
    "workers = [\n",
    "    threading.Thread(target=delta_generator, args=(calculation_queue,))\n",
    "    for _ in range(10)\n",
    "]\n",
    "for worker in workers:\n",
    "    worker.start()\n",
    "for worker in workers:\n",
    "    worker.join()\n",
    "\n",
    "calculation_queue.join()\n",
    "printing_queue.join()\n"
   ]
  },
  {
   "cell_type": "markdown",
   "metadata": {},
   "source": [
    "* ошибки в многопоточном коде - одни из самых неприятных\n",
    "* модуль queue позволяет на порядок меньше думать и ошибаться, это самый pythonic способ писать многопоточный код"
   ]
  },
  {
   "cell_type": "markdown",
   "metadata": {},
   "source": [
    "### Упражнение:\n",
    "Написать программу, которая будет находить сумму чисел массива с использованием N тредов\n",
    "(N <= core_count)"
   ]
  },
  {
   "cell_type": "markdown",
   "metadata": {},
   "source": [
    "Пример:"
   ]
  },
  {
   "cell_type": "code",
   "execution_count": 36,
   "metadata": {
    "collapsed": true
   },
   "outputs": [],
   "source": [
    "import queue\n",
    "\n",
    "def thread_job(arr, part_id, thread_count, results_queue):\n",
    "    results_queue.put(\n",
    "        sum(arr[i] for i in range(part_id, len(arr), thread_count))\n",
    "    )\n",
    "\n",
    "def sum_using_threads(arr, thread_count):\n",
    "    results_queue = queue.Queue()\n",
    "    threads = [\n",
    "        threading.Thread(target=thread_job, args=(arr, i, thread_count, results_queue))\n",
    "        for i in range(thread_count)\n",
    "    ]\n",
    "    for thread in threads:\n",
    "        thread.start()\n",
    "\n",
    "    results = []\n",
    "    for thread in threads:\n",
    "        results.append(results_queue.get())\n",
    "        thread.join()\n",
    "\n",
    "    return sum(results)"
   ]
  },
  {
   "cell_type": "code",
   "execution_count": 37,
   "metadata": {
    "collapsed": true
   },
   "outputs": [],
   "source": [
    "arr = [1 for _ in range(10 * 1000 * 1000)]"
   ]
  },
  {
   "cell_type": "code",
   "execution_count": 40,
   "metadata": {},
   "outputs": [
    {
     "name": "stdout",
     "output_type": "stream",
     "text": [
      "912 ms ± 28.6 ms per loop (mean ± std. dev. of 7 runs, 1 loop each)\n"
     ]
    }
   ],
   "source": [
    "%%timeit\n",
    "sum_using_threads(arr, 1)"
   ]
  },
  {
   "cell_type": "code",
   "execution_count": 39,
   "metadata": {},
   "outputs": [
    {
     "name": "stdout",
     "output_type": "stream",
     "text": [
      "905 ms ± 22.9 ms per loop (mean ± std. dev. of 7 runs, 1 loop each)\n"
     ]
    }
   ],
   "source": [
    "%%timeit\n",
    "sum_using_threads(arr, 4)"
   ]
  },
  {
   "cell_type": "markdown",
   "metadata": {},
   "source": [
    "Видим влияние GIL (Lock) на исполнение. **Вычисления** распараллеливать бессмысленно"
   ]
  },
  {
   "cell_type": "markdown",
   "metadata": {},
   "source": [
    "Существует сценарии, при которых использование потоков оправдано!"
   ]
  },
  {
   "cell_type": "markdown",
   "metadata": {},
   "source": [
    "Упражнение №.:"
   ]
  },
  {
   "cell_type": "code",
   "execution_count": 46,
   "metadata": {
    "collapsed": true
   },
   "outputs": [],
   "source": [
    "import urllib.request\n",
    "\n",
    "urls = [\n",
    "    'https://www.yandex.ru', 'https://www.google.com',\n",
    "    'https://habrahabr.ru', 'https://www.python.org',\n",
    "    'https://isocpp.org',\n",
    "]\n",
    "\n",
    "def read_url(url):\n",
    "    with urllib.request.urlopen(url) as u:\n",
    "        return u.read()"
   ]
  },
  {
   "cell_type": "code",
   "execution_count": 43,
   "metadata": {},
   "outputs": [
    {
     "name": "stdout",
     "output_type": "stream",
     "text": [
      "6.18 s ± 341 ms per loop (mean ± std. dev. of 7 runs, 1 loop each)\n"
     ]
    }
   ],
   "source": [
    "%%timeit\n",
    "for url in urls:\n",
    "    read_url(url)"
   ]
  },
  {
   "cell_type": "code",
   "execution_count": 44,
   "metadata": {},
   "outputs": [
    {
     "name": "stdout",
     "output_type": "stream",
     "text": [
      "2.28 s ± 181 ms per loop (mean ± std. dev. of 7 runs, 1 loop each)\n"
     ]
    }
   ],
   "source": [
    "%%timeit\n",
    "readers = [\n",
    "    threading.Thread(target=read_url, args=(url,))\n",
    "    for url in urls\n",
    "]\n",
    "for reader in readers:\n",
    "    reader.start()\n",
    "for reader in readers:\n",
    "    reader.join()"
   ]
  },
  {
   "cell_type": "markdown",
   "metadata": {},
   "source": [
    "Треды очень уместны, если в коде есть блокирующие операции (ввод-вывод, сетевые взаимодействия). Также, лучше всего разбивать логические процессы по тредам (анимация, графический интерфейс, и тд)"
   ]
  },
  {
   "cell_type": "markdown",
   "metadata": {},
   "source": [
    "# multiprocessing\n",
    "\n",
    "https://sebastianraschka.com/Articles/2014_multiprocessing.html#multi-threading-vs-multi-processing"
   ]
  },
  {
   "cell_type": "code",
   "execution_count": 47,
   "metadata": {
    "collapsed": true
   },
   "outputs": [],
   "source": [
    "import multiprocessing  # модуль для работы с процессами, создание, управление и тд."
   ]
  },
  {
   "cell_type": "markdown",
   "metadata": {},
   "source": [
    "Интерфейс строится аналогично threading. Модуль позволяет полностью использовать мощности многоядерных процессоров."
   ]
  },
  {
   "cell_type": "markdown",
   "metadata": {},
   "source": [
    "### Упражнение №.\n",
    "\n",
    "Запустите код. Объясните почему так происходит (LIST)."
   ]
  },
  {
   "cell_type": "code",
   "execution_count": 48,
   "metadata": {},
   "outputs": [
    {
     "data": {
      "text/plain": [
       "[]"
      ]
     },
     "execution_count": 48,
     "metadata": {},
     "output_type": "execute_result"
    }
   ],
   "source": [
    "import multiprocessing\n",
    "\n",
    "LIST = []\n",
    "\n",
    "def worker():\n",
    "    LIST.append('item')\n",
    "    \n",
    "processes = [\n",
    "    multiprocessing.Process(target=worker)\n",
    "    for _ in range(5)\n",
    "]\n",
    "\n",
    "for p in processes:\n",
    "    p.start()\n",
    "for p in processes:\n",
    "    p.join()\n",
    "    \n",
    "LIST"
   ]
  },
  {
   "cell_type": "markdown",
   "metadata": {},
   "source": [
    "Общение между процессами:"
   ]
  },
  {
   "cell_type": "code",
   "execution_count": 50,
   "metadata": {},
   "outputs": [
    {
     "name": "stdout",
     "output_type": "stream",
     "text": [
      "[42, None, 'hello']\n"
     ]
    }
   ],
   "source": [
    "from multiprocessing import Process, Queue\n",
    "\n",
    "def f(q):\n",
    "    q.put([42, None, 'hello'])\n",
    "\n",
    "q = Queue()\n",
    "p = Process(target=f, args=(q,))\n",
    "p.start()\n",
    "p.join()\n",
    "print(q.get())"
   ]
  },
  {
   "cell_type": "markdown",
   "metadata": {},
   "source": [
    "### Использование очереди"
   ]
  },
  {
   "cell_type": "code",
   "execution_count": 56,
   "metadata": {},
   "outputs": [
    {
     "name": "stdout",
     "output_type": "stream",
     "text": [
      "['tWIn1', 'N8B8n', 'aavo9', 'z6FNG']\n"
     ]
    }
   ],
   "source": [
    "import multiprocessing as mp\n",
    "import random\n",
    "import string\n",
    "\n",
    "random.seed(123)\n",
    "\n",
    "# Define an output queue\n",
    "output = mp.Queue()\n",
    "\n",
    "# define a example function\n",
    "def rand_string(length, output):\n",
    "    \"\"\" Generates a random string of numbers, lower- and uppercase chars. \"\"\"\n",
    "    rand_str = ''.join(random.choice(\n",
    "                        string.ascii_lowercase\n",
    "                        + string.ascii_uppercase\n",
    "                        + string.digits)\n",
    "                   for i in range(length))\n",
    "    output.put(rand_str)\n",
    "\n",
    "# Setup a list of processes that we want to run\n",
    "processes = [mp.Process(target=rand_string, args=(5, output)) for x in range(4)]\n",
    "\n",
    "# Run processes\n",
    "for p in processes:\n",
    "    p.start()\n",
    "\n",
    "# Exit the completed processes\n",
    "for p in processes:\n",
    "    p.join()\n",
    "\n",
    "# Get process results from the output queue\n",
    "results = [output.get() for p in processes]\n",
    "\n",
    "print(results)"
   ]
  },
  {
   "cell_type": "markdown",
   "metadata": {},
   "source": [
    "### Pool\n",
    "\n",
    "Класс Pool - удобный механизм распараллеливания выполнения функций, распределения входных данных по процессам и тд"
   ]
  },
  {
   "cell_type": "markdown",
   "metadata": {},
   "source": [
    "Наиболее интересные функции:\n",
    "* Pool.apply\n",
    "* Pool.map\n",
    "* Pool.apply_async\n",
    "* Pool.map_async\n",
    "\n",
    "apply, map работают аналогично питоновским built-in apply, map"
   ]
  },
  {
   "cell_type": "code",
   "execution_count": 57,
   "metadata": {},
   "outputs": [
    {
     "name": "stdout",
     "output_type": "stream",
     "text": [
      "[1, 8, 27, 64, 125, 216]\n",
      "[1, 8, 27, 64, 125, 216]\n"
     ]
    }
   ],
   "source": [
    "def cube(x):\n",
    "    return x**3\n",
    "\n",
    "pool = mp.Pool(processes=4)  # создаем пул из 4 процессов\n",
    "results = [pool.apply(cube, args=(x,)) for x in range(1,7)]  # раскидываем числа от 1 до 7 по 4 процессам\n",
    "print(results)\n",
    "\n",
    "pool = mp.Pool(processes=4)\n",
    "results = pool.map(cube, range(1,7))  # то же самое, но с map\n",
    "print(results)"
   ]
  },
  {
   "cell_type": "markdown",
   "metadata": {},
   "source": [
    "map, apply - блокирующие вызовы. Главная программа будет заблокирована, пока процесс не выполнит работу.\n",
    "\n",
    "map_async, apply_async - неблокирующие. При их вызове, они сразу возвращают управление в главную программу (возвращают ApplyResult как результат). Метод get() объекта ApplyResult блокирует основной поток, пока функция не будет выполнена."
   ]
  },
  {
   "cell_type": "code",
   "execution_count": 58,
   "metadata": {},
   "outputs": [
    {
     "name": "stdout",
     "output_type": "stream",
     "text": [
      "[1, 8, 27, 64, 125, 216]\n"
     ]
    }
   ],
   "source": [
    "pool = mp.Pool(processes=4)\n",
    "results = [pool.apply_async(cube, args=(x,)) for x in range(1,7)]\n",
    "output = [p.get() for p in results]\n",
    "print(output)"
   ]
  },
  {
   "cell_type": "markdown",
   "metadata": {},
   "source": [
    "#### Теперь сравним скорость работы программы на вычисление, используя multiprocessing модуль"
   ]
  },
  {
   "cell_type": "markdown",
   "metadata": {},
   "source": [
    "Kernel Density Estimation. (Ядерная оценка плотности)\n",
    "\n",
    "Оценим плотность методом окна Парзена."
   ]
  },
  {
   "cell_type": "code",
   "execution_count": 59,
   "metadata": {
    "collapsed": true
   },
   "outputs": [],
   "source": [
    "import numpy as np\n",
    "\n",
    "def parzen_estimation(x_samples, point_x, h):\n",
    "    \"\"\"\n",
    "    Implementation of a hypercube kernel for Parzen-window estimation.\n",
    "\n",
    "    Keyword arguments:\n",
    "        x_sample:training sample, 'd x 1'-dimensional numpy array\n",
    "        x: point x for density estimation, 'd x 1'-dimensional numpy array\n",
    "        h: window width\n",
    "\n",
    "    Returns the predicted pdf as float.\n",
    "\n",
    "    \"\"\"\n",
    "    k_n = 0\n",
    "    for row in x_samples:\n",
    "        x_i = (point_x - row[:,np.newaxis]) / (h)\n",
    "        for row in x_i:\n",
    "            if np.abs(row) > (1/2):\n",
    "                break\n",
    "        else:\n",
    "            k_n += 1\n",
    "    return (k_n / len(x_samples)) / (h**point_x.shape[1])"
   ]
  },
  {
   "cell_type": "markdown",
   "metadata": {},
   "source": [
    "Пример использования:"
   ]
  },
  {
   "cell_type": "code",
   "execution_count": 62,
   "metadata": {},
   "outputs": [
    {
     "name": "stdout",
     "output_type": "stream",
     "text": [
      "p(x) = 0.3\n"
     ]
    }
   ],
   "source": [
    "X_inside = np.array([[0,0,0],[0.2,0.2,0.2],[0.1, -0.1, -0.3]])\n",
    "\n",
    "X_outside = np.array([[-1.2,0.3,-0.3],[0.8,-0.82,-0.9],[1, 0.6, -0.7],\n",
    "                      [0.8,0.7,0.2],[0.7,-0.8,-0.45],[-0.3, 0.6, 0.9],\n",
    "                      [0.7,-0.6,-0.8]])\n",
    "\n",
    "point_x = np.array([[0],[0],[0]])\n",
    "X_all = np.vstack((X_inside,X_outside))\n",
    "\n",
    "print('p(x) =', parzen_estimation(X_all, point_x, h=1))"
   ]
  },
  {
   "cell_type": "markdown",
   "metadata": {},
   "source": [
    "Сгенерируем данные:"
   ]
  },
  {
   "cell_type": "code",
   "execution_count": 63,
   "metadata": {
    "collapsed": true
   },
   "outputs": [],
   "source": [
    "import numpy as np\n",
    "\n",
    "np.random.seed(123)\n",
    "\n",
    "# Generate random 2D-patterns\n",
    "mu_vec = np.array([0,0])\n",
    "cov_mat = np.array([[1,0],[0,1]])\n",
    "x_2Dgauss = np.random.multivariate_normal(mu_vec, cov_mat, 10000)"
   ]
  },
  {
   "cell_type": "markdown",
   "metadata": {},
   "source": [
    "Вопрос заключается в том, какой размер окна выбрать. Изменим функцию parzen_estimation, чтобы она возвращала дополнительно размер окна:"
   ]
  },
  {
   "cell_type": "code",
   "execution_count": 70,
   "metadata": {
    "collapsed": true
   },
   "outputs": [],
   "source": [
    "def parzen_estimation(x_samples, point_x, h):\n",
    "    k_n = 0\n",
    "    for row in x_samples:\n",
    "        x_i = (point_x - row[:,np.newaxis]) / (h)\n",
    "        for row in x_i:\n",
    "            if np.abs(row) > (1/2):\n",
    "                break\n",
    "        else:\n",
    "            k_n += 1\n",
    "    return (h, (k_n / len(x_samples)) / (h**point_x.shape[1]))"
   ]
  },
  {
   "cell_type": "markdown",
   "metadata": {},
   "source": [
    "Однопоточный алгоритм вычисления для нескольких окон:"
   ]
  },
  {
   "cell_type": "code",
   "execution_count": 71,
   "metadata": {
    "collapsed": true
   },
   "outputs": [],
   "source": [
    "def serial(samples, x, widths):\n",
    "    return [parzen_estimation(samples, x, w) for w in widths]"
   ]
  },
  {
   "cell_type": "markdown",
   "metadata": {},
   "source": [
    "### Упражнение\n",
    "\n",
    "Написать многопоточный вариант, используя Pool.apply_async"
   ]
  },
  {
   "cell_type": "code",
   "execution_count": 72,
   "metadata": {
    "collapsed": true
   },
   "outputs": [],
   "source": [
    "def multiprocess(processes, samples, x, widths):\n",
    "    pool = mp.Pool(processes=processes)\n",
    "    results = [pool.apply_async(parzen_estimation, args=(samples, x, w)) for w in widths]\n",
    "    results = [p.get() for p in results]\n",
    "    results.sort() # to sort the results by input window width\n",
    "    return results"
   ]
  },
  {
   "cell_type": "markdown",
   "metadata": {},
   "source": [
    "Запустим multiprocess версию и посмотрим на результаты"
   ]
  },
  {
   "cell_type": "code",
   "execution_count": 75,
   "metadata": {
    "collapsed": true
   },
   "outputs": [],
   "source": [
    "point_x = np.array([[0],[0]])\n",
    "widths = np.linspace(1.0, 1.2, 100)"
   ]
  },
  {
   "cell_type": "code",
   "execution_count": 76,
   "metadata": {
    "collapsed": true
   },
   "outputs": [],
   "source": [
    "import timeit\n",
    "\n",
    "mu_vec = np.array([0,0])\n",
    "cov_mat = np.array([[1,0],[0,1]])\n",
    "n = 10000\n",
    "\n",
    "x_2Dgauss = np.random.multivariate_normal(mu_vec, cov_mat, n)\n",
    "\n",
    "benchmarks = []\n",
    "\n",
    "benchmarks.append(timeit.Timer('serial(x_2Dgauss, point_x, widths)',\n",
    "            'from __main__ import serial, x_2Dgauss, point_x, widths').timeit(number=1))\n",
    "\n",
    "benchmarks.append(timeit.Timer('multiprocess(2, x_2Dgauss, point_x, widths)',\n",
    "            'from __main__ import multiprocess, x_2Dgauss, point_x, widths').timeit(number=1))\n",
    "\n",
    "benchmarks.append(timeit.Timer('multiprocess(4, x_2Dgauss, point_x, widths)',\n",
    "            'from __main__ import multiprocess, x_2Dgauss, point_x, widths').timeit(number=1))"
   ]
  },
  {
   "cell_type": "markdown",
   "metadata": {},
   "source": [
    "#### отобразить benchmarks на графике"
   ]
  },
  {
   "cell_type": "markdown",
   "metadata": {},
   "source": [
    "При написании программ с использованием модуля **multiprocessing** нужно помнить, что:\n",
    "\n",
    "- передача данных между процессами - это дорого\n",
    "- если задача легкая, а данные тяжелые, то возможно лучше ничего не параллелить\n",
    "- нет ограничения в виде GIL, можно легко параллелить тяжелые независимые задачи"
   ]
  },
  {
   "cell_type": "code",
   "execution_count": null,
   "metadata": {
    "collapsed": true
   },
   "outputs": [],
   "source": []
  }
 ],
 "metadata": {
  "kernelspec": {
   "display_name": "Python 3",
   "language": "python",
   "name": "python3"
  },
  "language_info": {
   "codemirror_mode": {
    "name": "ipython",
    "version": 3
   },
   "file_extension": ".py",
   "mimetype": "text/x-python",
   "name": "python",
   "nbconvert_exporter": "python",
   "pygments_lexer": "ipython3",
   "version": "3.6.3"
  }
 },
 "nbformat": 4,
 "nbformat_minor": 2
}
