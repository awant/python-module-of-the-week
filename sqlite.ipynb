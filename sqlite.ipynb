{
 "cells": [
  {
   "cell_type": "markdown",
   "metadata": {},
   "source": [
    "For more information:\n",
    "* SQL: http://www.sqlcourse.com/intro.html\n",
    "* sqlite3: https://docs.python.org/2/library/sqlite3.html\n",
    "* https://medium.com/analytics-vidhya/programming-with-databases-in-python-using-sqlite-4cecbef51ab9\n",
    "* About relationships: http://www.sqlitetutorial.net/sqlite-foreign-key/\n",
    "* More about relationships: https://www.sqlite.org/foreignkeys.html\n",
    "* SQLAlchemy: https://www.sqlalchemy.org\n",
    "\n",
    "### DB\n",
    "\n",
    "A database is an organized collection of data, generally stored and accessed electronically from a computer system\n",
    "\n",
    "### SQL (pronounced \"ess-que-el\")\n",
    "\n",
    "1. stands for Structured Query Language\n",
    "2. it is the standard language for relational database management systems\n",
    "3. Standard commands: \"Select\", \"Insert\", \"Update\", \"Delete\", \"Create\", and \"Drop\"\n",
    "\n",
    "### sqlite\n",
    "\n",
    "0. C library that provides a lightweight disk-based database\n",
    "1. doesn’t require a separate server process\n",
    "2. helpful to prototype an application using SQLite and then port the code to a larger database such as PostgreSQL\n",
    "\n",
    "module sqlite3 provides an interface for sqlite.\n",
    "\n",
    "It it useful to use an app to see a created DB (for example DB Browser, https://sqlitebrowser.org)"
   ]
  },
  {
   "cell_type": "code",
   "execution_count": null,
   "metadata": {
    "collapsed": true
   },
   "outputs": [],
   "source": [
    "import sqlite3"
   ]
  },
  {
   "cell_type": "code",
   "execution_count": null,
   "metadata": {
    "collapsed": true
   },
   "outputs": [],
   "source": [
    "# connect to db\n",
    "# \":memory:\" allows to create db in RAM. Useful for tests\n",
    "conn = sqlite3.connect(':memory:')  # another param: 'example.db' - save on disk"
   ]
  },
  {
   "cell_type": "code",
   "execution_count": null,
   "metadata": {
    "collapsed": true
   },
   "outputs": [],
   "source": [
    "# A cursor is just an abstraction. Remember to work through it\n",
    "# https://stackoverflow.com/questions/6318126/why-do-you-need-to-create-a-cursor-when-querying-a-sqlite-database\n",
    "c = conn.cursor()\n",
    "\n",
    "# Create table\n",
    "c.execute('''\n",
    "    CREATE TABLE stocks\n",
    "    (date text, trans text, symbol text, qty real, price real)\n",
    "''')\n",
    "# in execute argument should be **SQL commands** to perform\n",
    "\n",
    "# Insert a row of data\n",
    "c.execute(\"INSERT INTO stocks VALUES ('2006-01-05','BUY','RHAT',100,35.14)\")\n",
    "\n",
    "# Save (commit) the changes\n",
    "conn.commit()"
   ]
  },
  {
   "cell_type": "code",
   "execution_count": null,
   "metadata": {
    "collapsed": true
   },
   "outputs": [],
   "source": [
    "# We can also close the connection if we are done with it.\n",
    "# Just be sure any changes have been committed or they will be lost.\n",
    "conn.close()"
   ]
  },
  {
   "cell_type": "markdown",
   "metadata": {},
   "source": [
    "Some tutorials on SQL commands:\n",
    "1. https://beginner-sql-tutorial.com/sql-commands.htm\n",
    "2. https://www.codecademy.com/articles/sql-commands"
   ]
  },
  {
   "cell_type": "code",
   "execution_count": null,
   "metadata": {},
   "outputs": [],
   "source": [
    "# Simple example\n",
    "conn = sqlite3.connect(':memory:')\n",
    "c = conn.cursor()\n",
    "# PRIMARY KEY is unique and allows fast indexes and resolves collisions\n",
    "c.execute('''\n",
    "    CREATE TABLE test (\n",
    "        id INTEGER PRIMARY KEY,\n",
    "        name TEXT,\n",
    "        age INTEGER\n",
    ")''')\n",
    "\n",
    "c.execute(\"INSERT INTO test(name, age) VALUES ('John', 27)\")\n",
    "\n",
    "\n",
    "for row in c.execute(\"SELECT id, name FROM test\"):\n",
    "    print(row)\n",
    "\n",
    "## Another way:\n",
    "# c.execute(\"SELECT id, name FROM test\").fetchall()\n",
    "\n",
    "## Update a value in the table:\n",
    "# c.execute(\"UPDATE test set name = 'Paul' WHERE ID = 1\")\n",
    "# next(c.execute(\"SELECT id, name FROM test\"))\n",
    "\n",
    "## Delete a value\n",
    "# c.execute(\"DELETE from test WHERE ID = 1\")\n",
    "# list(c.execute(\"SELECT id, name FROM test\"))"
   ]
  },
  {
   "cell_type": "code",
   "execution_count": null,
   "metadata": {
    "collapsed": true
   },
   "outputs": [],
   "source": [
    "## You can even read a table with pandas\n",
    "# player_table = pd.read_sql_query(\"SELECT * FROM test\", con)"
   ]
  },
  {
   "cell_type": "markdown",
   "metadata": {},
   "source": [
    "#### You can't sharing connections and cursors between threads"
   ]
  },
  {
   "cell_type": "markdown",
   "metadata": {},
   "source": [
    "### Task 1\n",
    "\n",
    "* Create database workers.db\n",
    "* Create table Employee with following attributes:\n",
    "\n",
    "| Column      | Type    |\n",
    "|-------------|---------|\n",
    "| employee_id | integer |\n",
    "| name        | string  |\n",
    "| months      | integer |\n",
    "| salary      | integer |\n",
    "\n",
    "* Fill DB with values:\n",
    "\n",
    "| employee_id | name     | months | salary |\n",
    "|-------------|----------|--------|--------|\n",
    "| 12228       | Rose     | 15     | 1968   |\n",
    "| 33645       | Angela   | 1      | 3443   |\n",
    "| 45692       | Frank    | 17     | 1608   |\n",
    "| 56118       | Patrick  | 7      | 1345   |\n",
    "| 59725       | Lisa     | 11     | 2330   |\n",
    "| 74197       | Kimberly | 16     | 4372   |\n",
    "| 78454       | Bonnie   | 8      | 1771   |\n",
    "| 83565       | Michael  | 6      | 2017   |\n",
    "| 98607       | Todd     | 5      | 3396   |\n",
    "| 99989       | Joe      | 9      | 3573   |\n",
    "\n",
    "* Check corectness with DB Browser or an alternative\n",
    "* Write a query that prints a list of employee names (1)\n",
    "* Write a query that prints a list of employee names who have maximum salary (2)\n",
    "* Write a query that prints a number of employees who have maximum total earnings. Earnings = month * salary (3)\n",
    "\n",
    "You will have to use:\n",
    "\n",
    "1. COUNT\n",
    "2. GROUP BY\n",
    "3. ORDER BY\n",
    "4. LIMIT"
   ]
  },
  {
   "cell_type": "code",
   "execution_count": null,
   "metadata": {
    "collapsed": true
   },
   "outputs": [],
   "source": [
    "# Your code goes here"
   ]
  },
  {
   "cell_type": "markdown",
   "metadata": {},
   "source": [
    "Use values from Python variables in SQL operations (https://xkcd.com/327/):\n",
    "\n",
    "Use **?** as a placeholder"
   ]
  },
  {
   "cell_type": "code",
   "execution_count": null,
   "metadata": {},
   "outputs": [],
   "source": [
    "# Insert many records at a time\n",
    "conn = sqlite3.connect(':memory:')\n",
    "c = conn.cursor()\n",
    "\n",
    "c.execute('''\n",
    "    CREATE TABLE stocks (\n",
    "        date text,\n",
    "        trans text,\n",
    "        symbol text, \n",
    "        qty real,\n",
    "        price real\n",
    ")''')\n",
    "\n",
    "purchases = [('2006-03-28', 'BUY', 'IBM', 1000, 45.00),\n",
    "             ('2006-04-05', 'BUY', 'MSFT', 1000, 72.00),\n",
    "            ]\n",
    "c.executemany('INSERT INTO stocks VALUES (?,?,?,?,?)', purchases)"
   ]
  },
  {
   "cell_type": "markdown",
   "metadata": {},
   "source": [
    "### Relationships\n",
    "\n",
    "Types of relationships between tables:\n",
    "\n",
    "* One To Many\n",
    "* One To One\n",
    "* Many To Many\n",
    "\n",
    "**Primary** and **foreign** keys define the relational structure of a database. These keys enable each row in the database tables to be identified and define the relationships between the tables.\n",
    "\n",
    "1. The **primary key** of a relational table uniquely identifies each record in the table. It is a column, or set of columns, that allows each row in the table to be uniquely identified. No two rows in a table with a primary key can have the same primary key value.\n",
    "2. A **foreign key** is a field in a relational table that matches the primary key column of another table.\n",
    "\n",
    "\n",
    "<img src=\"https://cdn-images-1.medium.com/max/2600/1*yW_ha3z8Mp6fUn9m6qWwNw.png\" width=\"600\">\n",
    "\n",
    "\n",
    "### One to many relationship\n",
    "\n",
    "```\n",
    "CREATE TABLE IF NOT EXISTS suppliers (\n",
    " supplier_id integer PRIMARY KEY,\n",
    " supplier_name text NOT NULL,\n",
    " group_id integer NOT NULL\n",
    ");\n",
    " \n",
    "CREATE TABLE IF NOT EXISTS supplier_groups (\n",
    " group_id integer PRIMARY KEY,\n",
    " group_name text NOT NULL\n",
    ");\n",
    "```\n",
    "\n",
    "#### Drawbacks of this approach:\n",
    "\n",
    "1. there is no mechanism to prevent you from adding a row to the suppliers table without a corresponding row in the supplier_groups table\n",
    "2. you may remove a row in the supplier_groups table without deleting or updating the corresponding rows in the suppliers table. This may leave orphaned rows in the suppliers table\n",
    "\n",
    "** To enforce this relationship, you use a foreign key constraint**:\n",
    "```\n",
    "DROP TABLE IF EXISTS suppliers;\n",
    " \n",
    "CREATE TABLE suppliers (\n",
    " supplier_id INTEGER PRIMARY KEY,\n",
    " supplier_name TEXT NOT NULL,\n",
    " group_id INTEGER NOT NULL,\n",
    "        FOREIGN KEY (group_id) REFERENCES supplier_groups(group_id)\n",
    ");\n",
    "```\n",
    "\n",
    "* The group_id in the supplier_groups table is called the parent key, which is a column or a set of columns in the parent table that the foreign key constraint refers to\n",
    "* The group_id column in the suppliers table is called the child key\n",
    "\n",
    "#### Insertion:\n",
    "\n",
    "```\n",
    "INSERT INTO supplier_groups (group_name)\n",
    "VALUES\n",
    " ('Domestic'),('Global'),('One-Time');\n",
    "```\n",
    "\n",
    "```\n",
    "INSERT INTO suppliers (supplier_name, group_id)\n",
    "VALUES\n",
    " ('HP', 2);\n",
    "```\n",
    "\n",
    "#### Failed insertion:\n",
    "\n",
    "```\n",
    "INSERT INTO suppliers (supplier_name, group_id)\n",
    "VALUES\n",
    " ('ABC Inc.', 4);\n",
    "```"
   ]
  },
  {
   "cell_type": "markdown",
   "metadata": {},
   "source": [
    "### Task 2\n",
    "\n",
    "* Create tables with relationships (Artist, Track):\n",
    "\n",
    "#### Artist\n",
    "\n",
    "| Column      | Type    |\n",
    "|-------------|---------|\n",
    "| artistid    | integer |\n",
    "| artistname  | string  |\n",
    "\n",
    "#### Track\n",
    "\n",
    "| Column      | Type    |\n",
    "|-------------|---------|\n",
    "| trackid     | integer |\n",
    "| trackname   | string  |\n",
    "| trackartist | integer |\n",
    "\n",
    "* Create corresponding classes: Artist, Track\n",
    "* Code a random generation of artists, tracks\n",
    "* Save generated artist, tracks into table. Check with DB Browser\n",
    "* Write a query to get all artists (1)\n",
    "* Write a query to get all tracks (2)\n",
    "* Write a query to get all tracks for a specific artist (3)\n",
    "* Write a query to get an artist for a specific track (4)\n",
    "* Delete a track for a specific artist, show changes (5)"
   ]
  },
  {
   "cell_type": "code",
   "execution_count": null,
   "metadata": {
    "collapsed": true
   },
   "outputs": [],
   "source": [
    "# Your code goes here"
   ]
  },
  {
   "cell_type": "markdown",
   "metadata": {},
   "source": [
    "### SQLAlchemy. The Python SQL Toolkit and Object Relational Mapper (ORM)\n",
    "\n",
    "SQLAlchemy hides SQL requests under comfy api and treats rows as object. Read an example of usage."
   ]
  },
  {
   "cell_type": "code",
   "execution_count": null,
   "metadata": {
    "scrolled": true
   },
   "outputs": [],
   "source": [
    "import sys\n",
    "\n",
    "#for creating the mapper code\n",
    "from sqlalchemy import Column, ForeignKey, Integer, String\n",
    "\n",
    "#for configuration and class code\n",
    "from sqlalchemy.ext.declarative import declarative_base\n",
    "\n",
    "#for creating foreign key relationship between the tables\n",
    "from sqlalchemy.orm import relationship\n",
    "\n",
    "#for configuration\n",
    "from sqlalchemy import create_engine\n",
    "\n",
    "#create declarative_base instance\n",
    "Base = declarative_base()\n",
    "\n",
    "# All Classes are here\n",
    "class Child(Base):\n",
    "    __tablename__ = 'child'\n",
    "    id = Column(Integer, primary_key=True)\n",
    "    name = Column(String(50))\n",
    "    parent_id = Column(Integer, ForeignKey('parent.id'))\n",
    "    parent = relationship(\"Parent\", back_populates=\"children\")\n",
    "\n",
    "    def __repr__(self):\n",
    "        return \"<Child(id={}, name={}, parent_id={})>\".format(self.id, self.name, self.parent_id)\n",
    "\n",
    "class Parent(Base):\n",
    "    __tablename__ = 'parent'\n",
    "    id = Column(Integer, primary_key=True)\n",
    "    name = Column(String(50))  # 50 doesn't matter for sqlite, but it's better to set\n",
    "    children = relationship(\"Child\", back_populates='parent')\n",
    "    \n",
    "    def __repr__(self):\n",
    "        return \"<Parent(id={}, name={})>\".format(self.id, self.name)\n",
    "\n",
    "\n",
    "# creates a create_engine instance at the bottom of the file\n",
    "# 'echo' flag for logging\n",
    "engine = create_engine('sqlite:///:memory:', echo=True)  # the same sense as in sqlite3\n",
    "\n",
    "Base.metadata.create_all(engine)"
   ]
  },
  {
   "cell_type": "code",
   "execution_count": null,
   "metadata": {},
   "outputs": [],
   "source": [
    "from sqlalchemy.orm import sessionmaker\n",
    "\n",
    "# create a session\n",
    "Session = sessionmaker(bind=engine)\n",
    "session = Session()\n",
    "\n",
    "# add parent\n",
    "parent1 = Parent(name='Parent_1')\n",
    "session.add(parent1)  # the instance is pending. parent1 is not in DB\n",
    "\n",
    "# query parent\n",
    "qparent1 = session.query(Parent).filter_by(name='Parent_1').first()  # .all(), ets\n",
    "\n",
    "print('qparent1 is parent1', qparent1 is parent1)\n",
    "\n",
    "session.add_all([\n",
    "    Parent(name='Wendy'),\n",
    "    Parent(name='Mary')])\n",
    "\n",
    "print('Show new objects:')\n",
    "print(session.new)\n",
    "\n",
    "# Also, it is possible to add relations\n",
    "parent1.children = [Child(name='John'), Child(name='Jessica')]\n",
    "\n",
    "# fix changes\n",
    "session.commit()\n",
    "\n",
    "\n",
    "qparent1 = session.query(Parent).filter_by(name='Parent_1').one()\n",
    "print(qparent1)\n",
    "print(qparent1.children)"
   ]
  },
  {
   "cell_type": "markdown",
   "metadata": {},
   "source": [
    "### Task 3\n",
    "\n",
    "* Write Artist/Track with SQLAlchemy\n",
    "* You have to write down a class **Music**, which can operate with a table and objects\n",
    "* Should be implemented:\n",
    "  1. Adding an artist (add_artist)\n",
    "  2. Adding a track to an artist by a name (add_track)\n",
    "  3. Removing an artist with all his tracks (delete_artist)\n",
    "  4. Removing a track (delete_track)\n",
    "  5. Getter for an artist/track\n",
    "  6. Moving a track from one artist to another by name (move_track)\n",
    "  7. | After all the points above, add the column 'tracktext' in the Track table ('move data from old db')\n",
    "  8. Adding track text\n",
    "  9. Changing track text"
   ]
  },
  {
   "cell_type": "code",
   "execution_count": null,
   "metadata": {
    "collapsed": true
   },
   "outputs": [],
   "source": [
    "# Your code goes here"
   ]
  }
 ],
 "metadata": {
  "kernelspec": {
   "display_name": "Python 3",
   "language": "python",
   "name": "python3"
  },
  "language_info": {
   "codemirror_mode": {
    "name": "ipython",
    "version": 3
   },
   "file_extension": ".py",
   "mimetype": "text/x-python",
   "name": "python",
   "nbconvert_exporter": "python",
   "pygments_lexer": "ipython3",
   "version": "3.6.3"
  }
 },
 "nbformat": 4,
 "nbformat_minor": 2
}
