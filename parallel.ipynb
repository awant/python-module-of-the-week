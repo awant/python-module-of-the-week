{
 "cells": [
  {
   "cell_type": "markdown",
   "metadata": {},
   "source": [
    "# threading"
   ]
  },
  {
   "cell_type": "markdown",
   "metadata": {},
   "source": [
    "### Процесс и Поток\n",
    "\n",
    "Процесс - программа, которая выполняется в текущий момент.\n",
    "\n",
    "<Представление программы в памяти>: https://commons.wikimedia.org/wiki/File:C-memlayout-ru.svg?uselang=ru\n",
    "\n",
    "Поток (поток выполнения, thread) - единица обработки, исполнение которой может быть назначено ядром операционной системы. Исполняющаяся последовательность инструкций внутри процесса.\n",
    "\n",
    "Поток также называют \"легковестным процессом\" (https://learn-gevent-socketio.readthedocs.io/en/latest/general_concepts.html).\n",
    "\n",
    "Несколько потоков выполнения могут существовать в рамках одного и того же процесса и совместно использовать его ресурсы.\n",
    "\n",
    "Процесс с двумя потоками выполнения на одном ядре процессора: https://commons.wikimedia.org/wiki/File:Multithreaded_process.svg?uselang=ru\n",
    "\n",
    "Процессы с тредами: https://sites.google.com/site/sureshdevang/thread-vs-process\n"
   ]
  },
  {
   "cell_type": "markdown",
   "metadata": {},
   "source": [
    "* одно ядро процессора в один момент времени может исполнять только один тред\n",
    "* треды одного процесса могут исполняться физически одновременно (на разных ядрах)\n",
    "* бессмысленно порождать вычислительных тредов больше, чем у вас есть ядер"
   ]
  },
  {
   "cell_type": "markdown",
   "metadata": {},
   "source": [
    "### Исполнение кода питона\n",
    "\n",
    "CPython (самая популярная реализация интерпретатора питона) был реализован с максимальной простотой и имеет потокобезопасный механизм - GIL (Global Interpreter Lock).\n",
    "\n",
    "Благодаря этому Lock'у интерпретатор питона может исполнять лишь одну команду в один момент времени (single threading). По этой причине, создание несколько потоков не приведет к их одновременному исполнению на разных ядрах процессора, тем не менее, потоки полезны и в python."
   ]
  },
  {
   "cell_type": "code",
   "execution_count": null,
   "metadata": {
    "collapsed": true
   },
   "outputs": [],
   "source": [
    "# модуль питона для работы с потоками\n",
    "import threading"
   ]
  },
  {
   "cell_type": "markdown",
   "metadata": {},
   "source": [
    "Рассмотрим простой пример программы, создающей потоки:"
   ]
  },
  {
   "cell_type": "code",
   "execution_count": 23,
   "metadata": {},
   "outputs": [
    {
     "name": "stdout",
     "output_type": "stream",
     "text": [
      "Hello 0\n",
      "Hello 1\n",
      "Hello 2Hello 3Hello 4\n",
      "\n",
      "\n"
     ]
    }
   ],
   "source": [
    "import threading # модуль для работы с потоками (threads)\n",
    "import sys\n",
    "\n",
    "def thread_job(number):\n",
    "    print('Hello {}'.format(number))\n",
    "    sys.stdout.flush()\n",
    "\n",
    "def run_threads(count):\n",
    "    thread_job(0)\n",
    "    threads = [\n",
    "        threading.Thread(target=thread_job, args=(i,))\n",
    "        for i in range(1, count + 1)\n",
    "    ]\n",
    "    for thread in threads:\n",
    "        thread.start()  # каждый поток должен быть запущен\n",
    "    for thread in threads:\n",
    "        thread.join()  # дожидаемся исполнения всех потоков\n",
    "\n",
    "run_threads(4)"
   ]
  },
  {
   "cell_type": "markdown",
   "metadata": {},
   "source": [
    "### Упражнение №1\n",
    "\n",
    "Запустите следующий код. В чем проблема данного кода? Всегда ли counter = 10 после исполнения кода программы?"
   ]
  },
  {
   "cell_type": "code",
   "execution_count": 26,
   "metadata": {},
   "outputs": [
    {
     "name": "stdout",
     "output_type": "stream",
     "text": [
      "2 1 3 4 5 6 7 8 9 10 "
     ]
    },
    {
     "data": {
      "text/plain": [
       "10"
      ]
     },
     "execution_count": 26,
     "metadata": {},
     "output_type": "execute_result"
    }
   ],
   "source": [
    "counter = 0\n",
    "\n",
    "def thread_job():\n",
    "    global counter\n",
    "    old_counter = counter\n",
    "    counter = old_counter + 1\n",
    "    print('{} '.format(counter), end='')\n",
    "\n",
    "threads = [threading.Thread(target=thread_job) for _ in range(10)]\n",
    "for thread in threads:\n",
    "    thread.start()\n",
    "for thread in threads:\n",
    "    thread.join()\n",
    "\n",
    "counter"
   ]
  },
  {
   "cell_type": "markdown",
   "metadata": {},
   "source": [
    "Демонстрация \"проблемности\" кода:"
   ]
  },
  {
   "cell_type": "code",
   "execution_count": 33,
   "metadata": {},
   "outputs": [
    {
     "name": "stdout",
     "output_type": "stream",
     "text": [
      "1 2 3 4 5 6 7 8 9 10 "
     ]
    },
    {
     "data": {
      "text/plain": [
       "10"
      ]
     },
     "execution_count": 33,
     "metadata": {},
     "output_type": "execute_result"
    }
   ],
   "source": [
    "import random\n",
    "import time\n",
    "\n",
    "counter = 0\n",
    "def thread_job():\n",
    "    global counter\n",
    "    old_counter = counter\n",
    "    time.sleep(random.randint(0, 1))\n",
    "    counter = old_counter + 1\n",
    "    print('{} '.format(counter), end='')\n",
    "\n",
    "threads = [threading.Thread(target=thread_job) for _ in range(10)]\n",
    "for thread in threads:\n",
    "    thread.start()\n",
    "for thread in threads:\n",
    "    thread.join()\n",
    "counter"
   ]
  },
  {
   "cell_type": "markdown",
   "metadata": {},
   "source": [
    "#### Почему так происходит?"
   ]
  },
  {
   "cell_type": "markdown",
   "metadata": {},
   "source": [
    "Одно из возможных решений (не самое аккуратное):"
   ]
  },
  {
   "cell_type": "code",
   "execution_count": 21,
   "metadata": {},
   "outputs": [
    {
     "name": "stdout",
     "output_type": "stream",
     "text": [
      "1 2 3 4 5 6 7 8 9 10 "
     ]
    },
    {
     "data": {
      "text/plain": [
       "10"
      ]
     },
     "execution_count": 21,
     "metadata": {},
     "output_type": "execute_result"
    }
   ],
   "source": [
    "counter = 0\n",
    "\n",
    "def thread_job(lock):\n",
    "    lock.acquire() # mutex\n",
    "    global counter\n",
    "    counter += 1\n",
    "    print('{} '.format(counter), end='')\n",
    "    sys.stdout.flush()\n",
    "    lock.release()\n",
    "\n",
    "lock = threading.Lock()\n",
    "threads = [\n",
    "    threading.Thread(target=thread_job, args=(lock,))\n",
    "    for i in range(10)\n",
    "]\n",
    "for thread in threads:\n",
    "    thread.start()\n",
    "for thread in threads:\n",
    "    thread.join()\n",
    "\n",
    "counter"
   ]
  },
  {
   "cell_type": "markdown",
   "metadata": {},
   "source": [
    "Решение лучше (с with, https://jeffknupp.com/blog/2016/03/07/python-with-context-managers):"
   ]
  },
  {
   "cell_type": "code",
   "execution_count": 30,
   "metadata": {},
   "outputs": [
    {
     "name": "stdout",
     "output_type": "stream",
     "text": [
      "1 2 3 4 5 6 7 8 9 10 "
     ]
    },
    {
     "data": {
      "text/plain": [
       "10"
      ]
     },
     "execution_count": 30,
     "metadata": {},
     "output_type": "execute_result"
    }
   ],
   "source": [
    "counter = 0\n",
    "\n",
    "def thread_job(lock):\n",
    "    with lock:\n",
    "        global counter\n",
    "        counter += 1\n",
    "        print('{} '.format(counter), end='')\n",
    "        sys.stdout.flush()\n",
    "\n",
    "lock = threading.Lock()\n",
    "threads = [\n",
    "    threading.Thread(target=thread_job, args=(lock,))\n",
    "    for i in range(10)\n",
    "]\n",
    "for thread in threads:\n",
    "    thread.start()\n",
    "for thread in threads:\n",
    "    thread.join()\n",
    "\n",
    "counter"
   ]
  },
  {
   "cell_type": "markdown",
   "metadata": {},
   "source": [
    "Лучшее решение (используя queue (очереди) на счет и вывод на экран):"
   ]
  },
  {
   "cell_type": "code",
   "execution_count": 34,
   "metadata": {},
   "outputs": [
    {
     "name": "stdout",
     "output_type": "stream",
     "text": [
      "1\n",
      "2\n",
      "3\n",
      "4\n",
      "5\n",
      "6\n",
      "7\n",
      "8\n",
      "9\n",
      "10\n"
     ]
    }
   ],
   "source": [
    "import threading\n",
    "import queue\n",
    "\n",
    "class Counter:\n",
    "    def __init__(self, value):\n",
    "        self.value = value\n",
    "\n",
    "def printer(printing_queue):\n",
    "    while True:\n",
    "        value = printing_queue.get()\n",
    "        print(value)\n",
    "        printing_queue.task_done()\n",
    "\n",
    "def calculator(counter, calculation_queue, printing_queue):\n",
    "    while True:\n",
    "        delta = calculation_queue.get()\n",
    "        counter.value += delta\n",
    "        printing_queue.put(counter.value)\n",
    "        calculation_queue.task_done()\n",
    "\n",
    "def delta_generator(calculation_queue):\n",
    "    calculation_queue.put(1)\n",
    "\n",
    "# Main\n",
    "printing_queue = queue.Queue()\n",
    "printer_daemon = threading.Thread(\n",
    "    target=printer,\n",
    "    args=(printing_queue,),\n",
    "    daemon=True\n",
    ")\n",
    "printer_daemon.start()\n",
    "\n",
    "counter = Counter(0)\n",
    "calculation_queue = queue.Queue()\n",
    "calculator_daemon = threading.Thread(\n",
    "    target=calculator,\n",
    "    args=(counter, calculation_queue, printing_queue),\n",
    "    daemon=True\n",
    ")\n",
    "calculator_daemon.start()\n",
    "\n",
    "workers = [\n",
    "    threading.Thread(target=delta_generator, args=(calculation_queue,))\n",
    "    for _ in range(10)\n",
    "]\n",
    "for worker in workers:\n",
    "    worker.start()\n",
    "for worker in workers:\n",
    "    worker.join()\n",
    "\n",
    "calculation_queue.join()\n",
    "printing_queue.join()\n"
   ]
  },
  {
   "cell_type": "markdown",
   "metadata": {},
   "source": [
    "* ошибки в многопоточном коде - одни из самых неприятных\n",
    "* модуль queue позволяет на порядок меньше думать и ошибаться, это самый pythonic способ писать многопоточный код"
   ]
  },
  {
   "cell_type": "markdown",
   "metadata": {},
   "source": [
    "### Упражнение:\n",
    "Написать программу, которая будет находить сумму чисел массива с использованием N тредов\n",
    "(N <= core_count)"
   ]
  },
  {
   "cell_type": "markdown",
   "metadata": {},
   "source": [
    "Пример:"
   ]
  },
  {
   "cell_type": "code",
   "execution_count": 36,
   "metadata": {
    "collapsed": true
   },
   "outputs": [],
   "source": [
    "import queue\n",
    "\n",
    "def thread_job(arr, part_id, thread_count, results_queue):\n",
    "    results_queue.put(\n",
    "        sum(arr[i] for i in range(part_id, len(arr), thread_count))\n",
    "    )\n",
    "\n",
    "def sum_using_threads(arr, thread_count):\n",
    "    results_queue = queue.Queue()\n",
    "    threads = [\n",
    "        threading.Thread(target=thread_job, args=(arr, i, thread_count, results_queue))\n",
    "        for i in range(thread_count)\n",
    "    ]\n",
    "    for thread in threads:\n",
    "        thread.start()\n",
    "\n",
    "    results = []\n",
    "    for thread in threads:\n",
    "        results.append(results_queue.get())\n",
    "        thread.join()\n",
    "\n",
    "    return sum(results)"
   ]
  },
  {
   "cell_type": "code",
   "execution_count": 37,
   "metadata": {
    "collapsed": true
   },
   "outputs": [],
   "source": [
    "arr = [1 for _ in range(10 * 1000 * 1000)]"
   ]
  },
  {
   "cell_type": "code",
   "execution_count": 40,
   "metadata": {},
   "outputs": [
    {
     "name": "stdout",
     "output_type": "stream",
     "text": [
      "912 ms ± 28.6 ms per loop (mean ± std. dev. of 7 runs, 1 loop each)\n"
     ]
    }
   ],
   "source": [
    "%%timeit\n",
    "sum_using_threads(arr, 1)"
   ]
  },
  {
   "cell_type": "code",
   "execution_count": 39,
   "metadata": {},
   "outputs": [
    {
     "name": "stdout",
     "output_type": "stream",
     "text": [
      "905 ms ± 22.9 ms per loop (mean ± std. dev. of 7 runs, 1 loop each)\n"
     ]
    }
   ],
   "source": [
    "%%timeit\n",
    "sum_using_threads(arr, 4)"
   ]
  },
  {
   "cell_type": "markdown",
   "metadata": {},
   "source": [
    "Видим влияние GIL (Lock) на исполнение. **Вычисления** распараллеливать бессмысленно"
   ]
  },
  {
   "cell_type": "markdown",
   "metadata": {},
   "source": [
    "Существует сценарии, при которых использование потоков оправдано!"
   ]
  },
  {
   "cell_type": "markdown",
   "metadata": {},
   "source": [
    "Упражнение №.:"
   ]
  },
  {
   "cell_type": "code",
   "execution_count": 46,
   "metadata": {},
   "outputs": [],
   "source": [
    "import urllib.request\n",
    "\n",
    "urls = [\n",
    "    'https://www.yandex.ru', 'https://www.google.com',\n",
    "    'https://habrahabr.ru', 'https://www.python.org',\n",
    "    'https://isocpp.org',\n",
    "]\n",
    "\n",
    "def read_url(url):\n",
    "    with urllib.request.urlopen(url) as u:\n",
    "        return u.read()"
   ]
  },
  {
   "cell_type": "code",
   "execution_count": 43,
   "metadata": {},
   "outputs": [
    {
     "name": "stdout",
     "output_type": "stream",
     "text": [
      "6.18 s ± 341 ms per loop (mean ± std. dev. of 7 runs, 1 loop each)\n"
     ]
    }
   ],
   "source": [
    "%%timeit\n",
    "for url in urls:\n",
    "    read_url(url)"
   ]
  },
  {
   "cell_type": "code",
   "execution_count": 44,
   "metadata": {},
   "outputs": [
    {
     "name": "stdout",
     "output_type": "stream",
     "text": [
      "2.28 s ± 181 ms per loop (mean ± std. dev. of 7 runs, 1 loop each)\n"
     ]
    }
   ],
   "source": [
    "%%timeit\n",
    "readers = [\n",
    "    threading.Thread(target=read_url, args=(url,))\n",
    "    for url in urls\n",
    "]\n",
    "for reader in readers:\n",
    "    reader.start()\n",
    "for reader in readers:\n",
    "    reader.join()"
   ]
  },
  {
   "cell_type": "code",
   "execution_count": null,
   "metadata": {
    "collapsed": true
   },
   "outputs": [],
   "source": []
  },
  {
   "cell_type": "markdown",
   "metadata": {},
   "source": [
    "# multiprocessing"
   ]
  },
  {
   "cell_type": "markdown",
   "metadata": {},
   "source": [
    "# asyncio"
   ]
  },
  {
   "cell_type": "code",
   "execution_count": null,
   "metadata": {
    "collapsed": true
   },
   "outputs": [],
   "source": []
  }
 ],
 "metadata": {
  "kernelspec": {
   "display_name": "Python 3",
   "language": "python",
   "name": "python3"
  },
  "language_info": {
   "codemirror_mode": {
    "name": "ipython",
    "version": 3
   },
   "file_extension": ".py",
   "mimetype": "text/x-python",
   "name": "python",
   "nbconvert_exporter": "python",
   "pygments_lexer": "ipython3",
   "version": "3.6.3"
  }
 },
 "nbformat": 4,
 "nbformat_minor": 2
}
