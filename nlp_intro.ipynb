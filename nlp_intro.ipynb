{
 "cells": [
  {
   "cell_type": "markdown",
   "metadata": {},
   "source": [
    "<a href=\"https://colab.research.google.com/github/awant/python-module-of-the-week/blob/master/nlp_intro.ipynb\" target=\"_parent\"><img src=\"https://colab.research.google.com/assets/colab-badge.svg\" alt=\"Open In Colab\"/></a>"
   ]
  },
  {
   "cell_type": "markdown",
   "metadata": {
    "colab_type": "text",
    "id": "IlTJpymR7Kfo"
   },
   "source": [
    "Загрузка библиотеки для работы с Google Drive"
   ]
  },
  {
   "cell_type": "code",
   "execution_count": 0,
   "metadata": {
    "colab": {},
    "colab_type": "code",
    "collapsed": true,
    "id": "u0nhHycbXO2-"
   },
   "outputs": [],
   "source": [
    "# URL: https://drive.google.com/uc?id=1m4ENQo8QpE7jzq81NcJicQxS5Lqls6VE&export=download\n",
    "\n",
    "# Code to read csv file into Colaboratory:\n",
    "!pip install -U -q PyDrive\n",
    "from pydrive.auth import GoogleAuth\n",
    "from pydrive.drive import GoogleDrive\n",
    "from google.colab import auth\n",
    "from oauth2client.client import GoogleCredentials\n",
    "# Authenticate and create the PyDrive client.\n",
    "auth.authenticate_user()\n",
    "gauth = GoogleAuth()\n",
    "gauth.credentials = GoogleCredentials.get_application_default()\n",
    "drive = GoogleDrive(gauth)"
   ]
  },
  {
   "cell_type": "markdown",
   "metadata": {
    "colab_type": "text",
    "id": "ZCkRDAzQ7mtz"
   },
   "source": [
    "Id файла с данными"
   ]
  },
  {
   "cell_type": "code",
   "execution_count": 0,
   "metadata": {
    "colab": {},
    "colab_type": "code",
    "collapsed": true,
    "id": "3J3Ab5QIbLkn"
   },
   "outputs": [],
   "source": [
    "id = \"1m4ENQo8QpE7jzq81NcJicQxS5Lqls6VE\""
   ]
  },
  {
   "cell_type": "markdown",
   "metadata": {
    "colab_type": "text",
    "id": "Ej_w4XOg74w5"
   },
   "source": [
    "Загрузка файла с Google Drive"
   ]
  },
  {
   "cell_type": "code",
   "execution_count": 0,
   "metadata": {
    "colab": {},
    "colab_type": "code",
    "collapsed": true,
    "id": "-lP37YH7cAy9"
   },
   "outputs": [],
   "source": [
    "downloaded = drive.CreateFile({'id':id})\n",
    "downloaded.GetContentFile('imdb.zip')"
   ]
  },
  {
   "cell_type": "markdown",
   "metadata": {
    "colab_type": "text",
    "id": "HMs9Iwij8QfT"
   },
   "source": [
    "Архив с данными распаковывается в папку"
   ]
  },
  {
   "cell_type": "code",
   "execution_count": 0,
   "metadata": {
    "colab": {},
    "colab_type": "code",
    "collapsed": true,
    "id": "VCUdrydAcc0H"
   },
   "outputs": [],
   "source": [
    "import zipfile\n",
    "zip_ref = zipfile.ZipFile(\"imdb.zip\", 'r')\n",
    "zip_ref.extractall(\"imdb\")\n",
    "zip_ref.close()"
   ]
  },
  {
   "cell_type": "markdown",
   "metadata": {
    "colab_type": "text",
    "id": "RGthKR1y8apy"
   },
   "source": [
    "Загрузка данных в датафрейм"
   ]
  },
  {
   "cell_type": "code",
   "execution_count": 0,
   "metadata": {
    "colab": {},
    "colab_type": "code",
    "collapsed": true,
    "id": "mA9SaIhlcgAk"
   },
   "outputs": [],
   "source": [
    "import pandas as pd\n",
    "data = pd.read_csv(\"imdb/imdb_master.csv\", encoding=\"ISO-8859-1\")"
   ]
  },
  {
   "cell_type": "code",
   "execution_count": 0,
   "metadata": {
    "colab": {},
    "colab_type": "code",
    "collapsed": true,
    "id": "jzq5egTac7l8"
   },
   "outputs": [],
   "source": [
    "data.sample(10)"
   ]
  },
  {
   "cell_type": "markdown",
   "metadata": {
    "colab_type": "text",
    "id": "dkrPz3aC80sD"
   },
   "source": [
    "В поле **review** содержится текст отзыва, в поле **label** содержится сентимент отзыва. Он может быть положительным отрицательным и нейтральным."
   ]
  },
  {
   "cell_type": "markdown",
   "metadata": {
    "colab_type": "text",
    "id": "x3CdrCUX_Okr"
   },
   "source": [
    "Отфильтровать датасет от нейтральных отзывов. Следует оставить только положительные и отрицательные."
   ]
  },
  {
   "cell_type": "code",
   "execution_count": 0,
   "metadata": {
    "colab": {},
    "colab_type": "code",
    "collapsed": true,
    "id": "kNd7vchv_m_2"
   },
   "outputs": [],
   "source": [
    "x = ... # Your code here\n",
    "y = ... # Your code here"
   ]
  },
  {
   "cell_type": "markdown",
   "metadata": {
    "colab_type": "text",
    "id": "l7SIeCHd_yXd"
   },
   "source": [
    "Привести данные к нормальному виду. Привести тексты к нижнему регистру, удалить все знаки препинания, убрать лишние пробелы.\n",
    "\n",
    "Метки классов привести к числовым значениям. Отрицательные сентименты -- 0, положительные -- 1"
   ]
  },
  {
   "cell_type": "code",
   "execution_count": 0,
   "metadata": {
    "colab": {},
    "colab_type": "code",
    "collapsed": true,
    "id": "-YqmM55aCFTr"
   },
   "outputs": [],
   "source": [
    "x = ... # Your code here\n",
    "y = ... # Your code here"
   ]
  },
  {
   "cell_type": "markdown",
   "metadata": {
    "colab_type": "text",
    "id": "9yBR_p5zCLJY"
   },
   "source": [
    "Воспользуемся модулем Scikit-learn для работы с данными и построения моделей.\n",
    "\n",
    "**CountVectorizer** - принимает на вход группу текстов и вычисляет количество n-gram\n",
    "\n",
    "**TfidfVectorizer** -- принимает на вход группу текстов и вычисляет веса для [TF-IDF](https://ru.wikipedia.org/wiki/TF-IDF)\n",
    "\n",
    "**LogisticRegression** -- [логистическая регрессия](https://towardsdatascience.com/logistic-regression-detailed-overview-46c4da4303bc)\n",
    "\n",
    "**roc_auc_score** -- целевая метрика [ROC AUC](https://towardsdatascience.com/understanding-auc-roc-curve-68b2303cc9c5)\n",
    "\n",
    "**cross_val_score** -- оценка качества модели на [кросс-валидации](https://towardsdatascience.com/cross-validation-70289113a072)"
   ]
  },
  {
   "cell_type": "code",
   "execution_count": 0,
   "metadata": {
    "colab": {},
    "colab_type": "code",
    "collapsed": true,
    "id": "T_ewolFYYtT1"
   },
   "outputs": [],
   "source": [
    "from sklearn.feature_extraction.text import CountVectorizer, TfidfVectorizer\n",
    "from sklearn.linear_model import LogisticRegression         \n",
    "from sklearn.metrics import roc_auc_score                   \n",
    "from sklearn.model_selection import cross_val_score         "
   ]
  },
  {
   "cell_type": "markdown",
   "metadata": {
    "colab_type": "text",
    "id": "G2Gx_ldLcrIF"
   },
   "source": [
    "Создание моделей"
   ]
  },
  {
   "cell_type": "code",
   "execution_count": 0,
   "metadata": {
    "colab": {},
    "colab_type": "code",
    "collapsed": true,
    "id": "cuKlyUwEZZxR"
   },
   "outputs": [],
   "source": [
    "vectorizer = # Your code here\n",
    "lr = # Your code here"
   ]
  },
  {
   "cell_type": "markdown",
   "metadata": {
    "colab_type": "text",
    "id": "ohgEMMWicvnq"
   },
   "source": [
    "Обучение моделей.\n",
    "\n",
    "Для обучения моделей в Scikit-learn применяется метод fit. Он принимает в качестве входных параметров данные и ответы. Для unsupervised моделей параметр ответов может отсутствовать. \n",
    "\n",
    "Если с данными необходимо сделать какие-то преобразование, применяется метод transform. Он принимает в качестве входных параметров данные. \n",
    "\n",
    "Для получения предсказаний модели используется метод predict. Он принимает в качестве входных параметров данные."
   ]
  },
  {
   "cell_type": "code",
   "execution_count": 0,
   "metadata": {
    "colab": {},
    "colab_type": "code",
    "collapsed": true,
    "id": "nEwVgT0TdcKT"
   },
   "outputs": [],
   "source": [
    "## Train model\n",
    "#\n",
    "# Your code here"
   ]
  },
  {
   "cell_type": "markdown",
   "metadata": {
    "colab_type": "text",
    "id": "xVD93nL_gkdv"
   },
   "source": [
    "После обучения моделей необходимо оценить качество. Оценка качества моделей на тренировочных данных -- очень плохая идея, так как в данном случае мы не сможем отследить переобучение, а показанное качество не будет отражать реальной картины. \n",
    "\n",
    "Для этого перед обучением хорошо бы отделить от данных отдельный кусок, который не будет участвовать в обучении и на котором модель будет тестироваться. Однако, и у такого подхода есть недостаток. Если разделить неравномерно, то качество на валидации опять же будет необъективным.\n",
    "\n",
    "Другим походом является кросс-валидация, когда мы делим данные на несколько одинаковых фрагментов и последоватьельно обучаем алгоритм на всех, кроме одного, а на оставшемся делаем предсказание. Таким образом оценка качества получается наиболее объективной, однако требует гораздо больше времени, ведь вместо обучения одной мдели происходит обучение количества моделей, раного количеству разбиений данных."
   ]
  },
  {
   "cell_type": "code",
   "execution_count": 0,
   "metadata": {
    "colab": {},
    "colab_type": "code",
    "collapsed": true,
    "id": "KxXdJYrdjPJk"
   },
   "outputs": [],
   "source": [
    "## Evaluate model on traininig data\n",
    "\n",
    "out = ... # Your code here\n",
    "\n",
    "## Calculate score on training data\n",
    "\n",
    "print(...) # Your code here\n",
    "\n",
    "## Calculate roc_auc/accuracy score on cross-validation with fold number cv=5\n",
    "\n",
    "print(np.mean(...)) # Your code here"
   ]
  },
  {
   "cell_type": "markdown",
   "metadata": {
    "colab_type": "text",
    "id": "dyYazbM8GSid"
   },
   "source": [
    "Для улучшения качества модели возможно извлечь дополнительные признаки:\n",
    "1. Длина отзыва\n",
    "2. Количество слов\n",
    "3. Количество чисел\n",
    "4. Количество слов с заглавной буквы\n",
    "5. Количество предложений\n",
    "6. ...\n",
    "\n",
    "Для метрических моделей не забывайте о скалировании!"
   ]
  },
  {
   "cell_type": "code",
   "execution_count": 0,
   "metadata": {
    "colab": {},
    "colab_type": "code",
    "collapsed": true,
    "id": "aNqltC0rEOFF"
   },
   "outputs": [],
   "source": [
    "# Extract meta features\n",
    "# Your code here"
   ]
  },
  {
   "cell_type": "code",
   "execution_count": 0,
   "metadata": {
    "colab": {},
    "colab_type": "code",
    "collapsed": true,
    "id": "5T5geIT_G1BE"
   },
   "outputs": [],
   "source": [
    "# Check score"
   ]
  },
  {
   "cell_type": "markdown",
   "metadata": {
    "colab_type": "text",
    "id": "bHzetwjtJ75R"
   },
   "source": [
    "Также, при работе с текстом широко используется модуль nltk (https://www.nltk.org)\n",
    "\n",
    "Добавьте в признаки:\n",
    "1. информацию о тэгах (nltk.pos_tag)\n",
    "\n",
    "Также, применить к отзывам стемминг (отсечение окончаний и суффиксов) и лемматизацию (приведение слов к начальной форме: am, are, is -> be)."
   ]
  },
  {
   "cell_type": "code",
   "execution_count": 0,
   "metadata": {
    "colab": {},
    "colab_type": "code",
    "collapsed": true,
    "id": "lZ1Wo4eoJ5Z1"
   },
   "outputs": [],
   "source": [
    "# !pip install nltk\n",
    "\n",
    "import nltk\n",
    "from nltk.tokenize import word_tokenize, sent_tokenize\n",
    "from nltk.stem import PorterStemmer, WordNetLemmatizer"
   ]
  },
  {
   "cell_type": "markdown",
   "metadata": {
    "colab_type": "text",
    "id": "zCaF5q0LKemf"
   },
   "source": [
    "Подготовить отчет о проделанных экспериментах и получившихся результах.\n",
    "Должны быть отражены преобразования, модели и их качество (accuracy, roc auc)"
   ]
  },
  {
   "cell_type": "markdown",
   "metadata": {
    "colab_type": "text",
    "id": "zaPyDqeFNnDf"
   },
   "source": [
    "SUMMARY"
   ]
  },
  {
   "cell_type": "code",
   "execution_count": 0,
   "metadata": {
    "colab": {},
    "colab_type": "code",
    "collapsed": true,
    "id": "8MQMazolNryy"
   },
   "outputs": [],
   "source": []
  }
 ],
 "metadata": {
  "accelerator": "TPU",
  "colab": {
   "collapsed_sections": [],
   "name": "nlp_intro.ipynb",
   "provenance": [],
   "version": "0.3.2"
  },
  "kernelspec": {
   "display_name": "Python 3",
   "language": "python",
   "name": "python3"
  },
  "language_info": {
   "codemirror_mode": {
    "name": "ipython",
    "version": 3
   },
   "file_extension": ".py",
   "mimetype": "text/x-python",
   "name": "python",
   "nbconvert_exporter": "python",
   "pygments_lexer": "ipython3",
   "version": "3.6.3"
  }
 },
 "nbformat": 4,
 "nbformat_minor": 1
}
