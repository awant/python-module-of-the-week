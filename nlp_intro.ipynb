{
  "nbformat": 4,
  "nbformat_minor": 0,
  "metadata": {
    "colab": {
      "name": "nlp_intro.ipynb",
      "version": "0.3.2",
      "provenance": [],
      "collapsed_sections": []
    },
    "kernelspec": {
      "name": "python3",
      "display_name": "Python 3"
    },
    "accelerator": "TPU"
  },
  "cells": [
    {
      "metadata": {
        "id": "IlTJpymR7Kfo",
        "colab_type": "text"
      },
      "cell_type": "markdown",
      "source": [
        "Загрузка библиотеки для работы с Google Drive"
      ]
    },
    {
      "metadata": {
        "id": "u0nhHycbXO2-",
        "colab_type": "code",
        "colab": {}
      },
      "cell_type": "code",
      "source": [
        "# URL: https://drive.google.com/uc?id=1m4ENQo8QpE7jzq81NcJicQxS5Lqls6VE&export=download\n",
        "\n",
        "# Code to read csv file into Colaboratory:\n",
        "!pip install -U -q PyDrive\n",
        "from pydrive.auth import GoogleAuth\n",
        "from pydrive.drive import GoogleDrive\n",
        "from google.colab import auth\n",
        "from oauth2client.client import GoogleCredentials\n",
        "# Authenticate and create the PyDrive client.\n",
        "auth.authenticate_user()\n",
        "gauth = GoogleAuth()\n",
        "gauth.credentials = GoogleCredentials.get_application_default()\n",
        "drive = GoogleDrive(gauth)"
      ],
      "execution_count": 0,
      "outputs": []
    },
    {
      "metadata": {
        "id": "ZCkRDAzQ7mtz",
        "colab_type": "text"
      },
      "cell_type": "markdown",
      "source": [
        "Id файла с данными"
      ]
    },
    {
      "metadata": {
        "id": "3J3Ab5QIbLkn",
        "colab_type": "code",
        "colab": {}
      },
      "cell_type": "code",
      "source": [
        "id = \"1m4ENQo8QpE7jzq81NcJicQxS5Lqls6VE\""
      ],
      "execution_count": 0,
      "outputs": []
    },
    {
      "metadata": {
        "id": "Ej_w4XOg74w5",
        "colab_type": "text"
      },
      "cell_type": "markdown",
      "source": [
        "Загрузка файла с Google Drive"
      ]
    },
    {
      "metadata": {
        "id": "-lP37YH7cAy9",
        "colab_type": "code",
        "colab": {}
      },
      "cell_type": "code",
      "source": [
        "downloaded = drive.CreateFile({'id':id})\n",
        "downloaded.GetContentFile('imdb.zip')"
      ],
      "execution_count": 0,
      "outputs": []
    },
    {
      "metadata": {
        "id": "HMs9Iwij8QfT",
        "colab_type": "text"
      },
      "cell_type": "markdown",
      "source": [
        "Архив с данными распаковывается в папку"
      ]
    },
    {
      "metadata": {
        "id": "VCUdrydAcc0H",
        "colab_type": "code",
        "colab": {}
      },
      "cell_type": "code",
      "source": [
        "import zipfile\n",
        "zip_ref = zipfile.ZipFile(\"imdb.zip\", 'r')\n",
        "zip_ref.extractall(\"imdb\")\n",
        "zip_ref.close()"
      ],
      "execution_count": 0,
      "outputs": []
    },
    {
      "metadata": {
        "id": "RGthKR1y8apy",
        "colab_type": "text"
      },
      "cell_type": "markdown",
      "source": [
        "Загрузка данных в датафрейм"
      ]
    },
    {
      "metadata": {
        "id": "mA9SaIhlcgAk",
        "colab_type": "code",
        "colab": {}
      },
      "cell_type": "code",
      "source": [
        "import pandas as pd\n",
        "data = pd.read_csv(\"imdb/imdb_master.csv\", encoding=\"ISO-8859-1\")"
      ],
      "execution_count": 0,
      "outputs": []
    },
    {
      "metadata": {
        "id": "jzq5egTac7l8",
        "colab_type": "code",
        "colab": {}
      },
      "cell_type": "code",
      "source": [
        "data.sample(10)"
      ],
      "execution_count": 0,
      "outputs": []
    },
    {
      "metadata": {
        "id": "dkrPz3aC80sD",
        "colab_type": "text"
      },
      "cell_type": "markdown",
      "source": [
        "В поле **review** содержится текст отзыва, в поле **label** содержится сентимент отзыва. Он может быть положительным отрицательным и нейтральным."
      ]
    },
    {
      "metadata": {
        "id": "x3CdrCUX_Okr",
        "colab_type": "text"
      },
      "cell_type": "markdown",
      "source": [
        "Отфильтровать датасет от нейтральных отзывов. Следует оставить только положительные и отрицательные."
      ]
    },
    {
      "metadata": {
        "id": "kNd7vchv_m_2",
        "colab_type": "code",
        "colab": {}
      },
      "cell_type": "code",
      "source": [
        "x = ... # Your code here\n",
        "y = ... # Your code here"
      ],
      "execution_count": 0,
      "outputs": []
    },
    {
      "metadata": {
        "id": "l7SIeCHd_yXd",
        "colab_type": "text"
      },
      "cell_type": "markdown",
      "source": [
        "Привести данные к нормальному виду. Привести тексты к нижнему регистру, удалить все знаки препинания, убрать лишние пробелы.\n",
        "\n",
        "Метки классов привести к числовым значениям. Отрицательные сентименты -- 0, положительные -- 1"
      ]
    },
    {
      "metadata": {
        "id": "-YqmM55aCFTr",
        "colab_type": "code",
        "colab": {}
      },
      "cell_type": "code",
      "source": [
        "x = ... # Your code here\n",
        "y = ... # Your code here"
      ],
      "execution_count": 0,
      "outputs": []
    },
    {
      "metadata": {
        "id": "9yBR_p5zCLJY",
        "colab_type": "text"
      },
      "cell_type": "markdown",
      "source": [
        "Воспользуемся модулем Scikit-learn для работы с данными и построения моделей.\n",
        "\n",
        "**CountVectorizer** - принимает на вход группу текстов и вычисляет количество n-gram\n",
        "\n",
        "**TfidfVectorizer** -- принимает на вход группу текстов и вычисляет веса для [TF-IDF](https://ru.wikipedia.org/wiki/TF-IDF)\n",
        "\n",
        "**LogisticRegression** -- [логистическая регрессия](https://towardsdatascience.com/logistic-regression-detailed-overview-46c4da4303bc)\n",
        "\n",
        "**roc_auc_score** -- целевая метрика [ROC AUC](https://towardsdatascience.com/understanding-auc-roc-curve-68b2303cc9c5)\n",
        "\n",
        "**cross_val_score** -- оценка качества модели на [кросс-валидации](https://towardsdatascience.com/cross-validation-70289113a072)"
      ]
    },
    {
      "metadata": {
        "id": "T_ewolFYYtT1",
        "colab_type": "code",
        "colab": {}
      },
      "cell_type": "code",
      "source": [
        "from sklearn.feature_extraction.text import CountVectorizer, TfidfVectorizer\n",
        "from sklearn.linear_model import LogisticRegression         \n",
        "from sklearn.metrics import roc_auc_score                   \n",
        "from sklearn.model_selection import cross_val_score         "
      ],
      "execution_count": 0,
      "outputs": []
    },
    {
      "metadata": {
        "id": "G2Gx_ldLcrIF",
        "colab_type": "text"
      },
      "cell_type": "markdown",
      "source": [
        "Создание моделей"
      ]
    },
    {
      "metadata": {
        "id": "cuKlyUwEZZxR",
        "colab_type": "code",
        "colab": {}
      },
      "cell_type": "code",
      "source": [
        "vectorizer = # Your code here\n",
        "lr = # Your code here"
      ],
      "execution_count": 0,
      "outputs": []
    },
    {
      "metadata": {
        "id": "ohgEMMWicvnq",
        "colab_type": "text"
      },
      "cell_type": "markdown",
      "source": [
        "Обучение моделей.\n",
        "\n",
        "Для обучения моделей в Scikit-learn применяется метод fit. Он принимает в качестве входных параметров данные и ответы. Для unsupervised моделей параметр ответов может отсутствовать. \n",
        "\n",
        "Если с данными необходимо сделать какие-то преобразование, применяется метод transform. Он принимает в качестве входных параметров данные. \n",
        "\n",
        "Для получения предсказаний модели используется метод predict. Он принимает в качестве входных параметров данные."
      ]
    },
    {
      "metadata": {
        "id": "nEwVgT0TdcKT",
        "colab_type": "code",
        "colab": {}
      },
      "cell_type": "code",
      "source": [
        "## Train model\n",
        "#\n",
        "# Your code here"
      ],
      "execution_count": 0,
      "outputs": []
    },
    {
      "metadata": {
        "id": "xVD93nL_gkdv",
        "colab_type": "text"
      },
      "cell_type": "markdown",
      "source": [
        "После обучения моделей необходимо оценить качество. Оценка качества моделей на тренировочных данных -- очень плохая идея, так как в данном случае мы не сможем отследить переобучение, а показанное качество не будет отражать реальной картины. \n",
        "\n",
        "Для этого перед обучением хорошо бы отделить от данных отдельный кусок, который не будет участвовать в обучении и на котором модель будет тестироваться. Однако, и у такого подхода есть недостаток. Если разделить неравномерно, то качество на валидации опять же будет необъективным.\n",
        "\n",
        "Другим походом является кросс-валидация, когда мы делим данные на несколько одинаковых фрагментов и последоватьельно обучаем алгоритм на всех, кроме одного, а на оставшемся делаем предсказание. Таким образом оценка качества получается наиболее объективной, однако требует гораздо больше времени, ведь вместо обучения одной мдели происходит обучение количества моделей, раного количеству разбиений данных."
      ]
    },
    {
      "metadata": {
        "id": "KxXdJYrdjPJk",
        "colab_type": "code",
        "colab": {}
      },
      "cell_type": "code",
      "source": [
        "## Evaluate model on traininig data\n",
        "\n",
        "out = ... # Your code here\n",
        "\n",
        "## Calculate score on training data\n",
        "\n",
        "print(...) # Your code here\n",
        "\n",
        "## Calculate roc_auc/accuracy score on cross-validation with fold number cv=5\n",
        "\n",
        "print(np.mean(...)) # Your code here"
      ],
      "execution_count": 0,
      "outputs": []
    },
    {
      "metadata": {
        "id": "dyYazbM8GSid",
        "colab_type": "text"
      },
      "cell_type": "markdown",
      "source": [
        "Для улучшения качества модели возможно извлечь дополнительные признаки:\n",
        "1. Длина отзыва\n",
        "2. Количество слов\n",
        "3. Количество чисел\n",
        "4. Количество слов с заглавной буквы\n",
        "5. Количество предложений\n",
        "6. ...\n",
        "\n",
        "Для метрических моделей не забывайте о скалировании!"
      ]
    },
    {
      "metadata": {
        "id": "aNqltC0rEOFF",
        "colab_type": "code",
        "colab": {}
      },
      "cell_type": "code",
      "source": [
        "# Extract meta features\n",
        "# Your code here"
      ],
      "execution_count": 0,
      "outputs": []
    },
    {
      "metadata": {
        "id": "5T5geIT_G1BE",
        "colab_type": "code",
        "colab": {}
      },
      "cell_type": "code",
      "source": [
        "# Check score"
      ],
      "execution_count": 0,
      "outputs": []
    },
    {
      "metadata": {
        "id": "bHzetwjtJ75R",
        "colab_type": "text"
      },
      "cell_type": "markdown",
      "source": [
        "Также, при работе с текстом широко используется модуль nltk (https://www.nltk.org)\n",
        "\n",
        "Добавьте в признаки:\n",
        "1. информацию о тэгах (nltk.pos_tag)\n",
        "\n",
        "Также, применить к отзывам стемминг (отсечение окончаний и суффиксов) и лемматизацию (приведение слов к начальной форме: am, are, is -> be)."
      ]
    },
    {
      "metadata": {
        "id": "lZ1Wo4eoJ5Z1",
        "colab_type": "code",
        "colab": {}
      },
      "cell_type": "code",
      "source": [
        "# !pip install nltk\n",
        "\n",
        "import nltk\n",
        "from nltk.tokenize import word_tokenize, sent_tokenize\n",
        "from nltk.stem import PorterStemmer, WordNetLemmatizer"
      ],
      "execution_count": 0,
      "outputs": []
    },
    {
      "metadata": {
        "id": "zCaF5q0LKemf",
        "colab_type": "text"
      },
      "cell_type": "markdown",
      "source": [
        "Подготовить отчет о проделанных экспериментах и получившихся результах.\n",
        "Должны быть отражены преобразования, модели и их качество (accuracy, roc auc)"
      ]
    },
    {
      "metadata": {
        "id": "zaPyDqeFNnDf",
        "colab_type": "text"
      },
      "cell_type": "markdown",
      "source": [
        "SUMMARY"
      ]
    },
    {
      "metadata": {
        "id": "8MQMazolNryy",
        "colab_type": "code",
        "colab": {}
      },
      "cell_type": "code",
      "source": [
        ""
      ],
      "execution_count": 0,
      "outputs": []
    }
  ]
}